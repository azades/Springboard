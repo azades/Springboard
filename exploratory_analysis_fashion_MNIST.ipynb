{
 "cells": [
  {
   "cell_type": "markdown",
   "metadata": {},
   "source": [
    "### Fashion-MNIST data set"
   ]
  },
  {
   "cell_type": "markdown",
   "metadata": {},
   "source": [
    "Fashion-MNIST is a dataset of Zalando's article images. This data set has 60,000 examples of training set and 10,000 examples of test set. \n",
    "Each example is a 28x28 grayscale image of the fashion products which come from different gender groups.\n",
    "Each image has a label from 10 different classes as follows:\n",
    "\n",
    "* 0: T-shirt/top\n",
    "* 1: Trouser\n",
    "* 2: Pullover\n",
    "* 3: Dress\n",
    "* 4: Coat\n",
    "* 5: Sandal\n",
    "* 6: Shirt\n",
    "* 7: Sneaker\n",
    "* 8: Bag\n",
    "* 9: Ankle boot"
   ]
  },
  {
   "cell_type": "markdown",
   "metadata": {},
   "source": [
    "You can find the original data set from here:\n",
    "https://github.com/zalandoresearch/fashion-mnist"
   ]
  },
  {
   "cell_type": "markdown",
   "metadata": {},
   "source": [
    "### Objectives *"
   ]
  },
  {
   "cell_type": "markdown",
   "metadata": {},
   "source": [
    "In this notebook, I have tried to do an expolatory data analysis of Fashion-MNIST data set in order to have a better understanding of the data. After that, I have applied some of the supervised classification algorithm with different hyperparameteres to get benchmark results for accuracy and f-beta score on this data set.\n",
    "For the next step, I have applied Random Forest classifier along with Principal component analysis (PCA) to apply the dimentionaly reduction technique along with supervised learning. \n"
   ]
  },
  {
   "cell_type": "markdown",
   "metadata": {},
   "source": [
    "### Table of contents *"
   ]
  },
  {
   "cell_type": "markdown",
   "metadata": {},
   "source": [
    "* Adding import statements\n",
    "* Reading the data\n",
    "* Total number of records in train and test data set\n",
    "* Combining train and test data set as X, y\n",
    "* Statistics summary of the data set\n",
    "* Output labels for training & test data set\n",
    "* Plotting the output labels \n",
    "* Image visualization \n",
    "* Applying classification algorithms on the Data\n",
    "* Random Forest classifier \n",
    "* Logistic Regression classifier\n",
    "* Support Vector classifier\n",
    "* K Nearest Neighbors classifier\n",
    "* Gradient Boosting classifier\n",
    "* PCA\n",
    "* Applying Random Forest Classifier with PCA \n",
    "* Result Comparision for a Rabge of 100 components\n",
    "* Interpret PCA Results"
   ]
  },
  {
   "cell_type": "markdown",
   "metadata": {},
   "source": [
    "### Adding import statements"
   ]
  },
  {
   "cell_type": "code",
   "execution_count": 1,
   "metadata": {},
   "outputs": [
    {
     "name": "stderr",
     "output_type": "stream",
     "text": [
      "/Users/azadesanjari/anaconda3/lib/python3.6/site-packages/sklearn/ensemble/weight_boosting.py:29: DeprecationWarning: numpy.core.umath_tests is an internal NumPy module and should not be imported. It will be removed in a future NumPy release.\n",
      "  from numpy.core.umath_tests import inner1d\n"
     ]
    }
   ],
   "source": [
    "import pandas as pd\n",
    "import numpy as np\n",
    "from sklearn.ensemble import RandomForestClassifier\n",
    "from sklearn.linear_model import LogisticRegression\n",
    "from sklearn.svm import SVC\n",
    "from sklearn.neighbors import KNeighborsClassifier\n",
    "\n",
    "from sklearn.metrics import confusion_matrix, accuracy_score, fbeta_score\n",
    "from sklearn.model_selection import train_test_split\n",
    "from sklearn.decomposition import PCA\n",
    "from sklearn.preprocessing import StandardScaler\n",
    "\n",
    "import matplotlib.image as mpimg\n",
    "import matplotlib.pyplot as plt\n",
    "import seaborn as sns\n",
    "%matplotlib inline"
   ]
  },
  {
   "cell_type": "markdown",
   "metadata": {},
   "source": [
    "### Reading the data"
   ]
  },
  {
   "cell_type": "code",
   "execution_count": 2,
   "metadata": {},
   "outputs": [],
   "source": [
    "train_data_raw = pd.read_csv('data/fashion-mnist_train.csv')\n",
    "test_data_raw = pd.read_csv('data/fashion-mnist_test.csv')"
   ]
  },
  {
   "cell_type": "code",
   "execution_count": 3,
   "metadata": {},
   "outputs": [
    {
     "data": {
      "text/html": [
       "<div>\n",
       "<style scoped>\n",
       "    .dataframe tbody tr th:only-of-type {\n",
       "        vertical-align: middle;\n",
       "    }\n",
       "\n",
       "    .dataframe tbody tr th {\n",
       "        vertical-align: top;\n",
       "    }\n",
       "\n",
       "    .dataframe thead th {\n",
       "        text-align: right;\n",
       "    }\n",
       "</style>\n",
       "<table border=\"1\" class=\"dataframe\">\n",
       "  <thead>\n",
       "    <tr style=\"text-align: right;\">\n",
       "      <th></th>\n",
       "      <th>label</th>\n",
       "      <th>pixel1</th>\n",
       "      <th>pixel2</th>\n",
       "      <th>pixel3</th>\n",
       "      <th>pixel4</th>\n",
       "      <th>pixel5</th>\n",
       "      <th>pixel6</th>\n",
       "      <th>pixel7</th>\n",
       "      <th>pixel8</th>\n",
       "      <th>pixel9</th>\n",
       "      <th>...</th>\n",
       "      <th>pixel775</th>\n",
       "      <th>pixel776</th>\n",
       "      <th>pixel777</th>\n",
       "      <th>pixel778</th>\n",
       "      <th>pixel779</th>\n",
       "      <th>pixel780</th>\n",
       "      <th>pixel781</th>\n",
       "      <th>pixel782</th>\n",
       "      <th>pixel783</th>\n",
       "      <th>pixel784</th>\n",
       "    </tr>\n",
       "  </thead>\n",
       "  <tbody>\n",
       "    <tr>\n",
       "      <th>0</th>\n",
       "      <td>2</td>\n",
       "      <td>0</td>\n",
       "      <td>0</td>\n",
       "      <td>0</td>\n",
       "      <td>0</td>\n",
       "      <td>0</td>\n",
       "      <td>0</td>\n",
       "      <td>0</td>\n",
       "      <td>0</td>\n",
       "      <td>0</td>\n",
       "      <td>...</td>\n",
       "      <td>0</td>\n",
       "      <td>0</td>\n",
       "      <td>0</td>\n",
       "      <td>0</td>\n",
       "      <td>0</td>\n",
       "      <td>0</td>\n",
       "      <td>0</td>\n",
       "      <td>0</td>\n",
       "      <td>0</td>\n",
       "      <td>0</td>\n",
       "    </tr>\n",
       "    <tr>\n",
       "      <th>1</th>\n",
       "      <td>9</td>\n",
       "      <td>0</td>\n",
       "      <td>0</td>\n",
       "      <td>0</td>\n",
       "      <td>0</td>\n",
       "      <td>0</td>\n",
       "      <td>0</td>\n",
       "      <td>0</td>\n",
       "      <td>0</td>\n",
       "      <td>0</td>\n",
       "      <td>...</td>\n",
       "      <td>0</td>\n",
       "      <td>0</td>\n",
       "      <td>0</td>\n",
       "      <td>0</td>\n",
       "      <td>0</td>\n",
       "      <td>0</td>\n",
       "      <td>0</td>\n",
       "      <td>0</td>\n",
       "      <td>0</td>\n",
       "      <td>0</td>\n",
       "    </tr>\n",
       "    <tr>\n",
       "      <th>2</th>\n",
       "      <td>6</td>\n",
       "      <td>0</td>\n",
       "      <td>0</td>\n",
       "      <td>0</td>\n",
       "      <td>0</td>\n",
       "      <td>0</td>\n",
       "      <td>0</td>\n",
       "      <td>0</td>\n",
       "      <td>5</td>\n",
       "      <td>0</td>\n",
       "      <td>...</td>\n",
       "      <td>0</td>\n",
       "      <td>0</td>\n",
       "      <td>0</td>\n",
       "      <td>30</td>\n",
       "      <td>43</td>\n",
       "      <td>0</td>\n",
       "      <td>0</td>\n",
       "      <td>0</td>\n",
       "      <td>0</td>\n",
       "      <td>0</td>\n",
       "    </tr>\n",
       "    <tr>\n",
       "      <th>3</th>\n",
       "      <td>0</td>\n",
       "      <td>0</td>\n",
       "      <td>0</td>\n",
       "      <td>0</td>\n",
       "      <td>1</td>\n",
       "      <td>2</td>\n",
       "      <td>0</td>\n",
       "      <td>0</td>\n",
       "      <td>0</td>\n",
       "      <td>0</td>\n",
       "      <td>...</td>\n",
       "      <td>3</td>\n",
       "      <td>0</td>\n",
       "      <td>0</td>\n",
       "      <td>0</td>\n",
       "      <td>0</td>\n",
       "      <td>1</td>\n",
       "      <td>0</td>\n",
       "      <td>0</td>\n",
       "      <td>0</td>\n",
       "      <td>0</td>\n",
       "    </tr>\n",
       "    <tr>\n",
       "      <th>4</th>\n",
       "      <td>3</td>\n",
       "      <td>0</td>\n",
       "      <td>0</td>\n",
       "      <td>0</td>\n",
       "      <td>0</td>\n",
       "      <td>0</td>\n",
       "      <td>0</td>\n",
       "      <td>0</td>\n",
       "      <td>0</td>\n",
       "      <td>0</td>\n",
       "      <td>...</td>\n",
       "      <td>0</td>\n",
       "      <td>0</td>\n",
       "      <td>0</td>\n",
       "      <td>0</td>\n",
       "      <td>0</td>\n",
       "      <td>0</td>\n",
       "      <td>0</td>\n",
       "      <td>0</td>\n",
       "      <td>0</td>\n",
       "      <td>0</td>\n",
       "    </tr>\n",
       "  </tbody>\n",
       "</table>\n",
       "<p>5 rows × 785 columns</p>\n",
       "</div>"
      ],
      "text/plain": [
       "   label  pixel1  pixel2  pixel3  pixel4  pixel5  pixel6  pixel7  pixel8  \\\n",
       "0      2       0       0       0       0       0       0       0       0   \n",
       "1      9       0       0       0       0       0       0       0       0   \n",
       "2      6       0       0       0       0       0       0       0       5   \n",
       "3      0       0       0       0       1       2       0       0       0   \n",
       "4      3       0       0       0       0       0       0       0       0   \n",
       "\n",
       "   pixel9    ...     pixel775  pixel776  pixel777  pixel778  pixel779  \\\n",
       "0       0    ...            0         0         0         0         0   \n",
       "1       0    ...            0         0         0         0         0   \n",
       "2       0    ...            0         0         0        30        43   \n",
       "3       0    ...            3         0         0         0         0   \n",
       "4       0    ...            0         0         0         0         0   \n",
       "\n",
       "   pixel780  pixel781  pixel782  pixel783  pixel784  \n",
       "0         0         0         0         0         0  \n",
       "1         0         0         0         0         0  \n",
       "2         0         0         0         0         0  \n",
       "3         1         0         0         0         0  \n",
       "4         0         0         0         0         0  \n",
       "\n",
       "[5 rows x 785 columns]"
      ]
     },
     "execution_count": 3,
     "metadata": {},
     "output_type": "execute_result"
    }
   ],
   "source": [
    "train_data_raw.head()"
   ]
  },
  {
   "cell_type": "code",
   "execution_count": 4,
   "metadata": {},
   "outputs": [
    {
     "data": {
      "text/html": [
       "<div>\n",
       "<style scoped>\n",
       "    .dataframe tbody tr th:only-of-type {\n",
       "        vertical-align: middle;\n",
       "    }\n",
       "\n",
       "    .dataframe tbody tr th {\n",
       "        vertical-align: top;\n",
       "    }\n",
       "\n",
       "    .dataframe thead th {\n",
       "        text-align: right;\n",
       "    }\n",
       "</style>\n",
       "<table border=\"1\" class=\"dataframe\">\n",
       "  <thead>\n",
       "    <tr style=\"text-align: right;\">\n",
       "      <th></th>\n",
       "      <th>label</th>\n",
       "      <th>pixel1</th>\n",
       "      <th>pixel2</th>\n",
       "      <th>pixel3</th>\n",
       "      <th>pixel4</th>\n",
       "      <th>pixel5</th>\n",
       "      <th>pixel6</th>\n",
       "      <th>pixel7</th>\n",
       "      <th>pixel8</th>\n",
       "      <th>pixel9</th>\n",
       "      <th>...</th>\n",
       "      <th>pixel775</th>\n",
       "      <th>pixel776</th>\n",
       "      <th>pixel777</th>\n",
       "      <th>pixel778</th>\n",
       "      <th>pixel779</th>\n",
       "      <th>pixel780</th>\n",
       "      <th>pixel781</th>\n",
       "      <th>pixel782</th>\n",
       "      <th>pixel783</th>\n",
       "      <th>pixel784</th>\n",
       "    </tr>\n",
       "  </thead>\n",
       "  <tbody>\n",
       "    <tr>\n",
       "      <th>0</th>\n",
       "      <td>0</td>\n",
       "      <td>0</td>\n",
       "      <td>0</td>\n",
       "      <td>0</td>\n",
       "      <td>0</td>\n",
       "      <td>0</td>\n",
       "      <td>0</td>\n",
       "      <td>0</td>\n",
       "      <td>9</td>\n",
       "      <td>8</td>\n",
       "      <td>...</td>\n",
       "      <td>103</td>\n",
       "      <td>87</td>\n",
       "      <td>56</td>\n",
       "      <td>0</td>\n",
       "      <td>0</td>\n",
       "      <td>0</td>\n",
       "      <td>0</td>\n",
       "      <td>0</td>\n",
       "      <td>0</td>\n",
       "      <td>0</td>\n",
       "    </tr>\n",
       "    <tr>\n",
       "      <th>1</th>\n",
       "      <td>1</td>\n",
       "      <td>0</td>\n",
       "      <td>0</td>\n",
       "      <td>0</td>\n",
       "      <td>0</td>\n",
       "      <td>0</td>\n",
       "      <td>0</td>\n",
       "      <td>0</td>\n",
       "      <td>0</td>\n",
       "      <td>0</td>\n",
       "      <td>...</td>\n",
       "      <td>34</td>\n",
       "      <td>0</td>\n",
       "      <td>0</td>\n",
       "      <td>0</td>\n",
       "      <td>0</td>\n",
       "      <td>0</td>\n",
       "      <td>0</td>\n",
       "      <td>0</td>\n",
       "      <td>0</td>\n",
       "      <td>0</td>\n",
       "    </tr>\n",
       "    <tr>\n",
       "      <th>2</th>\n",
       "      <td>2</td>\n",
       "      <td>0</td>\n",
       "      <td>0</td>\n",
       "      <td>0</td>\n",
       "      <td>0</td>\n",
       "      <td>0</td>\n",
       "      <td>0</td>\n",
       "      <td>14</td>\n",
       "      <td>53</td>\n",
       "      <td>99</td>\n",
       "      <td>...</td>\n",
       "      <td>0</td>\n",
       "      <td>0</td>\n",
       "      <td>0</td>\n",
       "      <td>0</td>\n",
       "      <td>63</td>\n",
       "      <td>53</td>\n",
       "      <td>31</td>\n",
       "      <td>0</td>\n",
       "      <td>0</td>\n",
       "      <td>0</td>\n",
       "    </tr>\n",
       "    <tr>\n",
       "      <th>3</th>\n",
       "      <td>2</td>\n",
       "      <td>0</td>\n",
       "      <td>0</td>\n",
       "      <td>0</td>\n",
       "      <td>0</td>\n",
       "      <td>0</td>\n",
       "      <td>0</td>\n",
       "      <td>0</td>\n",
       "      <td>0</td>\n",
       "      <td>0</td>\n",
       "      <td>...</td>\n",
       "      <td>137</td>\n",
       "      <td>126</td>\n",
       "      <td>140</td>\n",
       "      <td>0</td>\n",
       "      <td>133</td>\n",
       "      <td>224</td>\n",
       "      <td>222</td>\n",
       "      <td>56</td>\n",
       "      <td>0</td>\n",
       "      <td>0</td>\n",
       "    </tr>\n",
       "    <tr>\n",
       "      <th>4</th>\n",
       "      <td>3</td>\n",
       "      <td>0</td>\n",
       "      <td>0</td>\n",
       "      <td>0</td>\n",
       "      <td>0</td>\n",
       "      <td>0</td>\n",
       "      <td>0</td>\n",
       "      <td>0</td>\n",
       "      <td>0</td>\n",
       "      <td>0</td>\n",
       "      <td>...</td>\n",
       "      <td>0</td>\n",
       "      <td>0</td>\n",
       "      <td>0</td>\n",
       "      <td>0</td>\n",
       "      <td>0</td>\n",
       "      <td>0</td>\n",
       "      <td>0</td>\n",
       "      <td>0</td>\n",
       "      <td>0</td>\n",
       "      <td>0</td>\n",
       "    </tr>\n",
       "  </tbody>\n",
       "</table>\n",
       "<p>5 rows × 785 columns</p>\n",
       "</div>"
      ],
      "text/plain": [
       "   label  pixel1  pixel2  pixel3  pixel4  pixel5  pixel6  pixel7  pixel8  \\\n",
       "0      0       0       0       0       0       0       0       0       9   \n",
       "1      1       0       0       0       0       0       0       0       0   \n",
       "2      2       0       0       0       0       0       0      14      53   \n",
       "3      2       0       0       0       0       0       0       0       0   \n",
       "4      3       0       0       0       0       0       0       0       0   \n",
       "\n",
       "   pixel9    ...     pixel775  pixel776  pixel777  pixel778  pixel779  \\\n",
       "0       8    ...          103        87        56         0         0   \n",
       "1       0    ...           34         0         0         0         0   \n",
       "2      99    ...            0         0         0         0        63   \n",
       "3       0    ...          137       126       140         0       133   \n",
       "4       0    ...            0         0         0         0         0   \n",
       "\n",
       "   pixel780  pixel781  pixel782  pixel783  pixel784  \n",
       "0         0         0         0         0         0  \n",
       "1         0         0         0         0         0  \n",
       "2        53        31         0         0         0  \n",
       "3       224       222        56         0         0  \n",
       "4         0         0         0         0         0  \n",
       "\n",
       "[5 rows x 785 columns]"
      ]
     },
     "execution_count": 4,
     "metadata": {},
     "output_type": "execute_result"
    }
   ],
   "source": [
    "test_data_raw.head()"
   ]
  },
  {
   "cell_type": "markdown",
   "metadata": {},
   "source": [
    "### Total number of records in train and test data set"
   ]
  },
  {
   "cell_type": "code",
   "execution_count": 5,
   "metadata": {},
   "outputs": [
    {
     "name": "stdout",
     "output_type": "stream",
     "text": [
      "Number of rows in train data is 60000\n",
      "Number of columns in train data is 785\n"
     ]
    }
   ],
   "source": [
    "print(\"Number of rows in train data is {}\\nNumber of columns in train data is {}\".format(\n",
    "    train_data_raw.shape[0], train_data_raw.shape[1]))"
   ]
  },
  {
   "cell_type": "code",
   "execution_count": 6,
   "metadata": {},
   "outputs": [
    {
     "name": "stdout",
     "output_type": "stream",
     "text": [
      "Number of rows in test data is 10000\n",
      "Number of columns in test data is 785\n"
     ]
    }
   ],
   "source": [
    "print(\"Number of rows in test data is {}\\nNumber of columns in test data is {}\".format(\n",
    "    test_data_raw.shape[0], test_data_raw.shape[1]))"
   ]
  },
  {
   "cell_type": "code",
   "execution_count": 7,
   "metadata": {},
   "outputs": [],
   "source": [
    "y_train = train_data_raw['label']\n",
    "y_test = test_data_raw['label']"
   ]
  },
  {
   "cell_type": "code",
   "execution_count": 8,
   "metadata": {},
   "outputs": [
    {
     "name": "stdout",
     "output_type": "stream",
     "text": [
      "Number of labels in train data is 60000\n",
      "Number of labels in test data is 10000\n"
     ]
    }
   ],
   "source": [
    "print(\"Number of labels in train data is {}\\nNumber of labels in test data is {}\".format(\n",
    "    y_train.shape[0], y_test.shape[0]))"
   ]
  },
  {
   "cell_type": "markdown",
   "metadata": {},
   "source": [
    "### Combining train and test data set as X, y"
   ]
  },
  {
   "cell_type": "code",
   "execution_count": 9,
   "metadata": {},
   "outputs": [],
   "source": [
    "# Combing train and test set and drop the label column from X\n",
    "X = pd.concat([train_data_raw, test_data_raw]).drop('label', axis=1)\n",
    "y = pd.concat([y_train, y_test])"
   ]
  },
  {
   "cell_type": "code",
   "execution_count": 10,
   "metadata": {},
   "outputs": [
    {
     "name": "stdout",
     "output_type": "stream",
     "text": [
      "Number of rows in the data set is 70000\n",
      "Number of columns is 784\n"
     ]
    }
   ],
   "source": [
    "print(\"Number of rows in the data set is {}\\nNumber of columns is {}\".format(\n",
    "    X.shape[0], X.shape[1]))"
   ]
  },
  {
   "cell_type": "code",
   "execution_count": 11,
   "metadata": {},
   "outputs": [
    {
     "name": "stdout",
     "output_type": "stream",
     "text": [
      "Number of labels in the data set is 70000\n"
     ]
    }
   ],
   "source": [
    "print(\"Number of labels in the data set is {}\".format(\n",
    "    y.shape[0]))\n"
   ]
  },
  {
   "cell_type": "markdown",
   "metadata": {},
   "source": [
    "### Statistics summary of the data set"
   ]
  },
  {
   "cell_type": "code",
   "execution_count": 12,
   "metadata": {},
   "outputs": [
    {
     "name": "stdout",
     "output_type": "stream",
     "text": [
      "<class 'pandas.core.frame.DataFrame'>\n",
      "Int64Index: 70000 entries, 0 to 9999\n",
      "Columns: 784 entries, pixel1 to pixel784\n",
      "dtypes: int64(784)\n",
      "memory usage: 419.2 MB\n"
     ]
    }
   ],
   "source": [
    "X.info()"
   ]
  },
  {
   "cell_type": "code",
   "execution_count": 13,
   "metadata": {},
   "outputs": [
    {
     "data": {
      "text/html": [
       "<div>\n",
       "<style scoped>\n",
       "    .dataframe tbody tr th:only-of-type {\n",
       "        vertical-align: middle;\n",
       "    }\n",
       "\n",
       "    .dataframe tbody tr th {\n",
       "        vertical-align: top;\n",
       "    }\n",
       "\n",
       "    .dataframe thead th {\n",
       "        text-align: right;\n",
       "    }\n",
       "</style>\n",
       "<table border=\"1\" class=\"dataframe\">\n",
       "  <thead>\n",
       "    <tr style=\"text-align: right;\">\n",
       "      <th></th>\n",
       "      <th>pixel1</th>\n",
       "      <th>pixel2</th>\n",
       "      <th>pixel3</th>\n",
       "      <th>pixel4</th>\n",
       "      <th>pixel5</th>\n",
       "      <th>pixel6</th>\n",
       "      <th>pixel7</th>\n",
       "      <th>pixel8</th>\n",
       "      <th>pixel9</th>\n",
       "      <th>pixel10</th>\n",
       "      <th>...</th>\n",
       "      <th>pixel775</th>\n",
       "      <th>pixel776</th>\n",
       "      <th>pixel777</th>\n",
       "      <th>pixel778</th>\n",
       "      <th>pixel779</th>\n",
       "      <th>pixel780</th>\n",
       "      <th>pixel781</th>\n",
       "      <th>pixel782</th>\n",
       "      <th>pixel783</th>\n",
       "      <th>pixel784</th>\n",
       "    </tr>\n",
       "  </thead>\n",
       "  <tbody>\n",
       "    <tr>\n",
       "      <th>count</th>\n",
       "      <td>70000.000000</td>\n",
       "      <td>70000.000000</td>\n",
       "      <td>70000.000000</td>\n",
       "      <td>70000.000000</td>\n",
       "      <td>70000.000000</td>\n",
       "      <td>70000.000000</td>\n",
       "      <td>70000.000000</td>\n",
       "      <td>70000.000000</td>\n",
       "      <td>70000.000000</td>\n",
       "      <td>70000.000000</td>\n",
       "      <td>...</td>\n",
       "      <td>70000.000000</td>\n",
       "      <td>70000.000000</td>\n",
       "      <td>70000.000000</td>\n",
       "      <td>70000.00000</td>\n",
       "      <td>70000.000000</td>\n",
       "      <td>70000.000000</td>\n",
       "      <td>70000.000000</td>\n",
       "      <td>70000.000000</td>\n",
       "      <td>70000.000000</td>\n",
       "      <td>70000.000000</td>\n",
       "    </tr>\n",
       "    <tr>\n",
       "      <th>mean</th>\n",
       "      <td>0.000829</td>\n",
       "      <td>0.006743</td>\n",
       "      <td>0.037729</td>\n",
       "      <td>0.098371</td>\n",
       "      <td>0.242343</td>\n",
       "      <td>0.402571</td>\n",
       "      <td>0.808757</td>\n",
       "      <td>2.215843</td>\n",
       "      <td>5.649971</td>\n",
       "      <td>14.470871</td>\n",
       "      <td>...</td>\n",
       "      <td>34.581886</td>\n",
       "      <td>23.268000</td>\n",
       "      <td>16.565943</td>\n",
       "      <td>17.86960</td>\n",
       "      <td>22.821271</td>\n",
       "      <td>17.894157</td>\n",
       "      <td>8.496757</td>\n",
       "      <td>2.723057</td>\n",
       "      <td>0.823229</td>\n",
       "      <td>0.069586</td>\n",
       "    </tr>\n",
       "    <tr>\n",
       "      <th>std</th>\n",
       "      <td>0.088152</td>\n",
       "      <td>0.319931</td>\n",
       "      <td>1.472886</td>\n",
       "      <td>2.419523</td>\n",
       "      <td>4.360495</td>\n",
       "      <td>5.811048</td>\n",
       "      <td>8.269954</td>\n",
       "      <td>14.231137</td>\n",
       "      <td>23.754212</td>\n",
       "      <td>38.274184</td>\n",
       "      <td>...</td>\n",
       "      <td>57.594114</td>\n",
       "      <td>48.882093</td>\n",
       "      <td>42.005114</td>\n",
       "      <td>43.99069</td>\n",
       "      <td>51.812432</td>\n",
       "      <td>45.146046</td>\n",
       "      <td>29.494913</td>\n",
       "      <td>17.261065</td>\n",
       "      <td>9.110774</td>\n",
       "      <td>2.099525</td>\n",
       "    </tr>\n",
       "    <tr>\n",
       "      <th>min</th>\n",
       "      <td>0.000000</td>\n",
       "      <td>0.000000</td>\n",
       "      <td>0.000000</td>\n",
       "      <td>0.000000</td>\n",
       "      <td>0.000000</td>\n",
       "      <td>0.000000</td>\n",
       "      <td>0.000000</td>\n",
       "      <td>0.000000</td>\n",
       "      <td>0.000000</td>\n",
       "      <td>0.000000</td>\n",
       "      <td>...</td>\n",
       "      <td>0.000000</td>\n",
       "      <td>0.000000</td>\n",
       "      <td>0.000000</td>\n",
       "      <td>0.00000</td>\n",
       "      <td>0.000000</td>\n",
       "      <td>0.000000</td>\n",
       "      <td>0.000000</td>\n",
       "      <td>0.000000</td>\n",
       "      <td>0.000000</td>\n",
       "      <td>0.000000</td>\n",
       "    </tr>\n",
       "    <tr>\n",
       "      <th>25%</th>\n",
       "      <td>0.000000</td>\n",
       "      <td>0.000000</td>\n",
       "      <td>0.000000</td>\n",
       "      <td>0.000000</td>\n",
       "      <td>0.000000</td>\n",
       "      <td>0.000000</td>\n",
       "      <td>0.000000</td>\n",
       "      <td>0.000000</td>\n",
       "      <td>0.000000</td>\n",
       "      <td>0.000000</td>\n",
       "      <td>...</td>\n",
       "      <td>0.000000</td>\n",
       "      <td>0.000000</td>\n",
       "      <td>0.000000</td>\n",
       "      <td>0.00000</td>\n",
       "      <td>0.000000</td>\n",
       "      <td>0.000000</td>\n",
       "      <td>0.000000</td>\n",
       "      <td>0.000000</td>\n",
       "      <td>0.000000</td>\n",
       "      <td>0.000000</td>\n",
       "    </tr>\n",
       "    <tr>\n",
       "      <th>50%</th>\n",
       "      <td>0.000000</td>\n",
       "      <td>0.000000</td>\n",
       "      <td>0.000000</td>\n",
       "      <td>0.000000</td>\n",
       "      <td>0.000000</td>\n",
       "      <td>0.000000</td>\n",
       "      <td>0.000000</td>\n",
       "      <td>0.000000</td>\n",
       "      <td>0.000000</td>\n",
       "      <td>0.000000</td>\n",
       "      <td>...</td>\n",
       "      <td>0.000000</td>\n",
       "      <td>0.000000</td>\n",
       "      <td>0.000000</td>\n",
       "      <td>0.00000</td>\n",
       "      <td>0.000000</td>\n",
       "      <td>0.000000</td>\n",
       "      <td>0.000000</td>\n",
       "      <td>0.000000</td>\n",
       "      <td>0.000000</td>\n",
       "      <td>0.000000</td>\n",
       "    </tr>\n",
       "    <tr>\n",
       "      <th>75%</th>\n",
       "      <td>0.000000</td>\n",
       "      <td>0.000000</td>\n",
       "      <td>0.000000</td>\n",
       "      <td>0.000000</td>\n",
       "      <td>0.000000</td>\n",
       "      <td>0.000000</td>\n",
       "      <td>0.000000</td>\n",
       "      <td>0.000000</td>\n",
       "      <td>0.000000</td>\n",
       "      <td>0.000000</td>\n",
       "      <td>...</td>\n",
       "      <td>57.000000</td>\n",
       "      <td>8.000000</td>\n",
       "      <td>0.000000</td>\n",
       "      <td>0.00000</td>\n",
       "      <td>0.000000</td>\n",
       "      <td>0.000000</td>\n",
       "      <td>0.000000</td>\n",
       "      <td>0.000000</td>\n",
       "      <td>0.000000</td>\n",
       "      <td>0.000000</td>\n",
       "    </tr>\n",
       "    <tr>\n",
       "      <th>max</th>\n",
       "      <td>16.000000</td>\n",
       "      <td>45.000000</td>\n",
       "      <td>226.000000</td>\n",
       "      <td>185.000000</td>\n",
       "      <td>227.000000</td>\n",
       "      <td>230.000000</td>\n",
       "      <td>247.000000</td>\n",
       "      <td>255.000000</td>\n",
       "      <td>254.000000</td>\n",
       "      <td>255.000000</td>\n",
       "      <td>...</td>\n",
       "      <td>255.000000</td>\n",
       "      <td>255.000000</td>\n",
       "      <td>255.000000</td>\n",
       "      <td>255.00000</td>\n",
       "      <td>255.000000</td>\n",
       "      <td>255.000000</td>\n",
       "      <td>255.000000</td>\n",
       "      <td>255.000000</td>\n",
       "      <td>255.000000</td>\n",
       "      <td>170.000000</td>\n",
       "    </tr>\n",
       "  </tbody>\n",
       "</table>\n",
       "<p>8 rows × 784 columns</p>\n",
       "</div>"
      ],
      "text/plain": [
       "             pixel1        pixel2        pixel3        pixel4        pixel5  \\\n",
       "count  70000.000000  70000.000000  70000.000000  70000.000000  70000.000000   \n",
       "mean       0.000829      0.006743      0.037729      0.098371      0.242343   \n",
       "std        0.088152      0.319931      1.472886      2.419523      4.360495   \n",
       "min        0.000000      0.000000      0.000000      0.000000      0.000000   \n",
       "25%        0.000000      0.000000      0.000000      0.000000      0.000000   \n",
       "50%        0.000000      0.000000      0.000000      0.000000      0.000000   \n",
       "75%        0.000000      0.000000      0.000000      0.000000      0.000000   \n",
       "max       16.000000     45.000000    226.000000    185.000000    227.000000   \n",
       "\n",
       "             pixel6        pixel7        pixel8        pixel9       pixel10  \\\n",
       "count  70000.000000  70000.000000  70000.000000  70000.000000  70000.000000   \n",
       "mean       0.402571      0.808757      2.215843      5.649971     14.470871   \n",
       "std        5.811048      8.269954     14.231137     23.754212     38.274184   \n",
       "min        0.000000      0.000000      0.000000      0.000000      0.000000   \n",
       "25%        0.000000      0.000000      0.000000      0.000000      0.000000   \n",
       "50%        0.000000      0.000000      0.000000      0.000000      0.000000   \n",
       "75%        0.000000      0.000000      0.000000      0.000000      0.000000   \n",
       "max      230.000000    247.000000    255.000000    254.000000    255.000000   \n",
       "\n",
       "           ...           pixel775      pixel776      pixel777     pixel778  \\\n",
       "count      ...       70000.000000  70000.000000  70000.000000  70000.00000   \n",
       "mean       ...          34.581886     23.268000     16.565943     17.86960   \n",
       "std        ...          57.594114     48.882093     42.005114     43.99069   \n",
       "min        ...           0.000000      0.000000      0.000000      0.00000   \n",
       "25%        ...           0.000000      0.000000      0.000000      0.00000   \n",
       "50%        ...           0.000000      0.000000      0.000000      0.00000   \n",
       "75%        ...          57.000000      8.000000      0.000000      0.00000   \n",
       "max        ...         255.000000    255.000000    255.000000    255.00000   \n",
       "\n",
       "           pixel779      pixel780      pixel781      pixel782      pixel783  \\\n",
       "count  70000.000000  70000.000000  70000.000000  70000.000000  70000.000000   \n",
       "mean      22.821271     17.894157      8.496757      2.723057      0.823229   \n",
       "std       51.812432     45.146046     29.494913     17.261065      9.110774   \n",
       "min        0.000000      0.000000      0.000000      0.000000      0.000000   \n",
       "25%        0.000000      0.000000      0.000000      0.000000      0.000000   \n",
       "50%        0.000000      0.000000      0.000000      0.000000      0.000000   \n",
       "75%        0.000000      0.000000      0.000000      0.000000      0.000000   \n",
       "max      255.000000    255.000000    255.000000    255.000000    255.000000   \n",
       "\n",
       "           pixel784  \n",
       "count  70000.000000  \n",
       "mean       0.069586  \n",
       "std        2.099525  \n",
       "min        0.000000  \n",
       "25%        0.000000  \n",
       "50%        0.000000  \n",
       "75%        0.000000  \n",
       "max      170.000000  \n",
       "\n",
       "[8 rows x 784 columns]"
      ]
     },
     "execution_count": 13,
     "metadata": {},
     "output_type": "execute_result"
    }
   ],
   "source": [
    "X.describe()"
   ]
  },
  {
   "cell_type": "markdown",
   "metadata": {},
   "source": [
    "### Output labels for training & test data set"
   ]
  },
  {
   "cell_type": "markdown",
   "metadata": {},
   "source": [
    "In order to have a better understaniding of the data set, I will do some exploratory data analysis and data visualization on Fashion-MNIST data. First I'll put label's names instead of label's class number to be more human readable. "
   ]
  },
  {
   "cell_type": "code",
   "execution_count": 14,
   "metadata": {},
   "outputs": [],
   "source": [
    "labels = {0: 'T-shirt/top', 1: 'Trouser', 2: 'Pullover', 3: 'Dress', 4: 'Coat', \n",
    " 5: 'Sandal', 6: 'Shirt', 7: 'Sneaker', 8: 'Bag', 9: 'Ankle boot'}\n",
    "train_data_raw['label'] = train_data_raw.label.map(labels)\n",
    "test_data_raw['label'] = test_data_raw.label.map(labels)"
   ]
  },
  {
   "cell_type": "code",
   "execution_count": 15,
   "metadata": {},
   "outputs": [
    {
     "data": {
      "text/html": [
       "<div>\n",
       "<style scoped>\n",
       "    .dataframe tbody tr th:only-of-type {\n",
       "        vertical-align: middle;\n",
       "    }\n",
       "\n",
       "    .dataframe tbody tr th {\n",
       "        vertical-align: top;\n",
       "    }\n",
       "\n",
       "    .dataframe thead th {\n",
       "        text-align: right;\n",
       "    }\n",
       "</style>\n",
       "<table border=\"1\" class=\"dataframe\">\n",
       "  <thead>\n",
       "    <tr style=\"text-align: right;\">\n",
       "      <th></th>\n",
       "      <th>label</th>\n",
       "      <th>pixel1</th>\n",
       "      <th>pixel2</th>\n",
       "      <th>pixel3</th>\n",
       "      <th>pixel4</th>\n",
       "      <th>pixel5</th>\n",
       "      <th>pixel6</th>\n",
       "      <th>pixel7</th>\n",
       "      <th>pixel8</th>\n",
       "      <th>pixel9</th>\n",
       "      <th>...</th>\n",
       "      <th>pixel775</th>\n",
       "      <th>pixel776</th>\n",
       "      <th>pixel777</th>\n",
       "      <th>pixel778</th>\n",
       "      <th>pixel779</th>\n",
       "      <th>pixel780</th>\n",
       "      <th>pixel781</th>\n",
       "      <th>pixel782</th>\n",
       "      <th>pixel783</th>\n",
       "      <th>pixel784</th>\n",
       "    </tr>\n",
       "  </thead>\n",
       "  <tbody>\n",
       "    <tr>\n",
       "      <th>0</th>\n",
       "      <td>Pullover</td>\n",
       "      <td>0</td>\n",
       "      <td>0</td>\n",
       "      <td>0</td>\n",
       "      <td>0</td>\n",
       "      <td>0</td>\n",
       "      <td>0</td>\n",
       "      <td>0</td>\n",
       "      <td>0</td>\n",
       "      <td>0</td>\n",
       "      <td>...</td>\n",
       "      <td>0</td>\n",
       "      <td>0</td>\n",
       "      <td>0</td>\n",
       "      <td>0</td>\n",
       "      <td>0</td>\n",
       "      <td>0</td>\n",
       "      <td>0</td>\n",
       "      <td>0</td>\n",
       "      <td>0</td>\n",
       "      <td>0</td>\n",
       "    </tr>\n",
       "    <tr>\n",
       "      <th>1</th>\n",
       "      <td>Ankle boot</td>\n",
       "      <td>0</td>\n",
       "      <td>0</td>\n",
       "      <td>0</td>\n",
       "      <td>0</td>\n",
       "      <td>0</td>\n",
       "      <td>0</td>\n",
       "      <td>0</td>\n",
       "      <td>0</td>\n",
       "      <td>0</td>\n",
       "      <td>...</td>\n",
       "      <td>0</td>\n",
       "      <td>0</td>\n",
       "      <td>0</td>\n",
       "      <td>0</td>\n",
       "      <td>0</td>\n",
       "      <td>0</td>\n",
       "      <td>0</td>\n",
       "      <td>0</td>\n",
       "      <td>0</td>\n",
       "      <td>0</td>\n",
       "    </tr>\n",
       "    <tr>\n",
       "      <th>2</th>\n",
       "      <td>Shirt</td>\n",
       "      <td>0</td>\n",
       "      <td>0</td>\n",
       "      <td>0</td>\n",
       "      <td>0</td>\n",
       "      <td>0</td>\n",
       "      <td>0</td>\n",
       "      <td>0</td>\n",
       "      <td>5</td>\n",
       "      <td>0</td>\n",
       "      <td>...</td>\n",
       "      <td>0</td>\n",
       "      <td>0</td>\n",
       "      <td>0</td>\n",
       "      <td>30</td>\n",
       "      <td>43</td>\n",
       "      <td>0</td>\n",
       "      <td>0</td>\n",
       "      <td>0</td>\n",
       "      <td>0</td>\n",
       "      <td>0</td>\n",
       "    </tr>\n",
       "    <tr>\n",
       "      <th>3</th>\n",
       "      <td>T-shirt/top</td>\n",
       "      <td>0</td>\n",
       "      <td>0</td>\n",
       "      <td>0</td>\n",
       "      <td>1</td>\n",
       "      <td>2</td>\n",
       "      <td>0</td>\n",
       "      <td>0</td>\n",
       "      <td>0</td>\n",
       "      <td>0</td>\n",
       "      <td>...</td>\n",
       "      <td>3</td>\n",
       "      <td>0</td>\n",
       "      <td>0</td>\n",
       "      <td>0</td>\n",
       "      <td>0</td>\n",
       "      <td>1</td>\n",
       "      <td>0</td>\n",
       "      <td>0</td>\n",
       "      <td>0</td>\n",
       "      <td>0</td>\n",
       "    </tr>\n",
       "    <tr>\n",
       "      <th>4</th>\n",
       "      <td>Dress</td>\n",
       "      <td>0</td>\n",
       "      <td>0</td>\n",
       "      <td>0</td>\n",
       "      <td>0</td>\n",
       "      <td>0</td>\n",
       "      <td>0</td>\n",
       "      <td>0</td>\n",
       "      <td>0</td>\n",
       "      <td>0</td>\n",
       "      <td>...</td>\n",
       "      <td>0</td>\n",
       "      <td>0</td>\n",
       "      <td>0</td>\n",
       "      <td>0</td>\n",
       "      <td>0</td>\n",
       "      <td>0</td>\n",
       "      <td>0</td>\n",
       "      <td>0</td>\n",
       "      <td>0</td>\n",
       "      <td>0</td>\n",
       "    </tr>\n",
       "  </tbody>\n",
       "</table>\n",
       "<p>5 rows × 785 columns</p>\n",
       "</div>"
      ],
      "text/plain": [
       "         label  pixel1  pixel2  pixel3  pixel4  pixel5  pixel6  pixel7  \\\n",
       "0     Pullover       0       0       0       0       0       0       0   \n",
       "1   Ankle boot       0       0       0       0       0       0       0   \n",
       "2        Shirt       0       0       0       0       0       0       0   \n",
       "3  T-shirt/top       0       0       0       1       2       0       0   \n",
       "4        Dress       0       0       0       0       0       0       0   \n",
       "\n",
       "   pixel8  pixel9    ...     pixel775  pixel776  pixel777  pixel778  pixel779  \\\n",
       "0       0       0    ...            0         0         0         0         0   \n",
       "1       0       0    ...            0         0         0         0         0   \n",
       "2       5       0    ...            0         0         0        30        43   \n",
       "3       0       0    ...            3         0         0         0         0   \n",
       "4       0       0    ...            0         0         0         0         0   \n",
       "\n",
       "   pixel780  pixel781  pixel782  pixel783  pixel784  \n",
       "0         0         0         0         0         0  \n",
       "1         0         0         0         0         0  \n",
       "2         0         0         0         0         0  \n",
       "3         1         0         0         0         0  \n",
       "4         0         0         0         0         0  \n",
       "\n",
       "[5 rows x 785 columns]"
      ]
     },
     "execution_count": 15,
     "metadata": {},
     "output_type": "execute_result"
    }
   ],
   "source": [
    "train_data_raw.head()"
   ]
  },
  {
   "cell_type": "code",
   "execution_count": 16,
   "metadata": {},
   "outputs": [
    {
     "data": {
      "text/html": [
       "<div>\n",
       "<style scoped>\n",
       "    .dataframe tbody tr th:only-of-type {\n",
       "        vertical-align: middle;\n",
       "    }\n",
       "\n",
       "    .dataframe tbody tr th {\n",
       "        vertical-align: top;\n",
       "    }\n",
       "\n",
       "    .dataframe thead th {\n",
       "        text-align: right;\n",
       "    }\n",
       "</style>\n",
       "<table border=\"1\" class=\"dataframe\">\n",
       "  <thead>\n",
       "    <tr style=\"text-align: right;\">\n",
       "      <th></th>\n",
       "      <th>label</th>\n",
       "      <th>pixel1</th>\n",
       "      <th>pixel2</th>\n",
       "      <th>pixel3</th>\n",
       "      <th>pixel4</th>\n",
       "      <th>pixel5</th>\n",
       "      <th>pixel6</th>\n",
       "      <th>pixel7</th>\n",
       "      <th>pixel8</th>\n",
       "      <th>pixel9</th>\n",
       "      <th>...</th>\n",
       "      <th>pixel775</th>\n",
       "      <th>pixel776</th>\n",
       "      <th>pixel777</th>\n",
       "      <th>pixel778</th>\n",
       "      <th>pixel779</th>\n",
       "      <th>pixel780</th>\n",
       "      <th>pixel781</th>\n",
       "      <th>pixel782</th>\n",
       "      <th>pixel783</th>\n",
       "      <th>pixel784</th>\n",
       "    </tr>\n",
       "  </thead>\n",
       "  <tbody>\n",
       "    <tr>\n",
       "      <th>0</th>\n",
       "      <td>T-shirt/top</td>\n",
       "      <td>0</td>\n",
       "      <td>0</td>\n",
       "      <td>0</td>\n",
       "      <td>0</td>\n",
       "      <td>0</td>\n",
       "      <td>0</td>\n",
       "      <td>0</td>\n",
       "      <td>9</td>\n",
       "      <td>8</td>\n",
       "      <td>...</td>\n",
       "      <td>103</td>\n",
       "      <td>87</td>\n",
       "      <td>56</td>\n",
       "      <td>0</td>\n",
       "      <td>0</td>\n",
       "      <td>0</td>\n",
       "      <td>0</td>\n",
       "      <td>0</td>\n",
       "      <td>0</td>\n",
       "      <td>0</td>\n",
       "    </tr>\n",
       "    <tr>\n",
       "      <th>1</th>\n",
       "      <td>Trouser</td>\n",
       "      <td>0</td>\n",
       "      <td>0</td>\n",
       "      <td>0</td>\n",
       "      <td>0</td>\n",
       "      <td>0</td>\n",
       "      <td>0</td>\n",
       "      <td>0</td>\n",
       "      <td>0</td>\n",
       "      <td>0</td>\n",
       "      <td>...</td>\n",
       "      <td>34</td>\n",
       "      <td>0</td>\n",
       "      <td>0</td>\n",
       "      <td>0</td>\n",
       "      <td>0</td>\n",
       "      <td>0</td>\n",
       "      <td>0</td>\n",
       "      <td>0</td>\n",
       "      <td>0</td>\n",
       "      <td>0</td>\n",
       "    </tr>\n",
       "    <tr>\n",
       "      <th>2</th>\n",
       "      <td>Pullover</td>\n",
       "      <td>0</td>\n",
       "      <td>0</td>\n",
       "      <td>0</td>\n",
       "      <td>0</td>\n",
       "      <td>0</td>\n",
       "      <td>0</td>\n",
       "      <td>14</td>\n",
       "      <td>53</td>\n",
       "      <td>99</td>\n",
       "      <td>...</td>\n",
       "      <td>0</td>\n",
       "      <td>0</td>\n",
       "      <td>0</td>\n",
       "      <td>0</td>\n",
       "      <td>63</td>\n",
       "      <td>53</td>\n",
       "      <td>31</td>\n",
       "      <td>0</td>\n",
       "      <td>0</td>\n",
       "      <td>0</td>\n",
       "    </tr>\n",
       "    <tr>\n",
       "      <th>3</th>\n",
       "      <td>Pullover</td>\n",
       "      <td>0</td>\n",
       "      <td>0</td>\n",
       "      <td>0</td>\n",
       "      <td>0</td>\n",
       "      <td>0</td>\n",
       "      <td>0</td>\n",
       "      <td>0</td>\n",
       "      <td>0</td>\n",
       "      <td>0</td>\n",
       "      <td>...</td>\n",
       "      <td>137</td>\n",
       "      <td>126</td>\n",
       "      <td>140</td>\n",
       "      <td>0</td>\n",
       "      <td>133</td>\n",
       "      <td>224</td>\n",
       "      <td>222</td>\n",
       "      <td>56</td>\n",
       "      <td>0</td>\n",
       "      <td>0</td>\n",
       "    </tr>\n",
       "    <tr>\n",
       "      <th>4</th>\n",
       "      <td>Dress</td>\n",
       "      <td>0</td>\n",
       "      <td>0</td>\n",
       "      <td>0</td>\n",
       "      <td>0</td>\n",
       "      <td>0</td>\n",
       "      <td>0</td>\n",
       "      <td>0</td>\n",
       "      <td>0</td>\n",
       "      <td>0</td>\n",
       "      <td>...</td>\n",
       "      <td>0</td>\n",
       "      <td>0</td>\n",
       "      <td>0</td>\n",
       "      <td>0</td>\n",
       "      <td>0</td>\n",
       "      <td>0</td>\n",
       "      <td>0</td>\n",
       "      <td>0</td>\n",
       "      <td>0</td>\n",
       "      <td>0</td>\n",
       "    </tr>\n",
       "  </tbody>\n",
       "</table>\n",
       "<p>5 rows × 785 columns</p>\n",
       "</div>"
      ],
      "text/plain": [
       "         label  pixel1  pixel2  pixel3  pixel4  pixel5  pixel6  pixel7  \\\n",
       "0  T-shirt/top       0       0       0       0       0       0       0   \n",
       "1      Trouser       0       0       0       0       0       0       0   \n",
       "2     Pullover       0       0       0       0       0       0      14   \n",
       "3     Pullover       0       0       0       0       0       0       0   \n",
       "4        Dress       0       0       0       0       0       0       0   \n",
       "\n",
       "   pixel8  pixel9    ...     pixel775  pixel776  pixel777  pixel778  pixel779  \\\n",
       "0       9       8    ...          103        87        56         0         0   \n",
       "1       0       0    ...           34         0         0         0         0   \n",
       "2      53      99    ...            0         0         0         0        63   \n",
       "3       0       0    ...          137       126       140         0       133   \n",
       "4       0       0    ...            0         0         0         0         0   \n",
       "\n",
       "   pixel780  pixel781  pixel782  pixel783  pixel784  \n",
       "0         0         0         0         0         0  \n",
       "1         0         0         0         0         0  \n",
       "2        53        31         0         0         0  \n",
       "3       224       222        56         0         0  \n",
       "4         0         0         0         0         0  \n",
       "\n",
       "[5 rows x 785 columns]"
      ]
     },
     "execution_count": 16,
     "metadata": {},
     "output_type": "execute_result"
    }
   ],
   "source": [
    "test_data_raw.head()"
   ]
  },
  {
   "cell_type": "code",
   "execution_count": 17,
   "metadata": {},
   "outputs": [
    {
     "data": {
      "text/plain": [
       "Sandal         6000\n",
       "Shirt          6000\n",
       "Sneaker        6000\n",
       "Trouser        6000\n",
       "Ankle boot     6000\n",
       "T-shirt/top    6000\n",
       "Bag            6000\n",
       "Pullover       6000\n",
       "Coat           6000\n",
       "Dress          6000\n",
       "Name: label, dtype: int64"
      ]
     },
     "execution_count": 17,
     "metadata": {},
     "output_type": "execute_result"
    }
   ],
   "source": [
    "label_counts_train = train_data_raw['label'].value_counts()\n",
    "label_counts_train"
   ]
  },
  {
   "cell_type": "code",
   "execution_count": 18,
   "metadata": {},
   "outputs": [
    {
     "data": {
      "text/plain": [
       "Dress          1000\n",
       "Sandal         1000\n",
       "Sneaker        1000\n",
       "Bag            1000\n",
       "Shirt          1000\n",
       "Trouser        1000\n",
       "Ankle boot     1000\n",
       "T-shirt/top    1000\n",
       "Coat           1000\n",
       "Pullover       1000\n",
       "Name: label, dtype: int64"
      ]
     },
     "execution_count": 18,
     "metadata": {},
     "output_type": "execute_result"
    }
   ],
   "source": [
    "label_counts_test = test_data_raw['label'].value_counts()\n",
    "label_counts_test"
   ]
  },
  {
   "cell_type": "markdown",
   "metadata": {},
   "source": [
    "### Plotting the output labels "
   ]
  },
  {
   "cell_type": "code",
   "execution_count": 19,
   "metadata": {},
   "outputs": [
    {
     "data": {
      "text/plain": [
       "[Text(0,0,'Sandal'),\n",
       " Text(0,0,'Shirt'),\n",
       " Text(0,0,'Sneaker'),\n",
       " Text(0,0,'Trouser'),\n",
       " Text(0,0,'Ankle boot'),\n",
       " Text(0,0,'T-shirt/top'),\n",
       " Text(0,0,'Bag'),\n",
       " Text(0,0,'Pullover'),\n",
       " Text(0,0,'Coat'),\n",
       " Text(0,0,'Dress')]"
      ]
     },
     "execution_count": 19,
     "metadata": {},
     "output_type": "execute_result"
    },
    {
     "data": {
      "image/png": "[encoded data removed]",
      "text/plain": [
       "<matplotlib.figure.Figure at 0x1a13efcac8>"
      ]
     },
     "metadata": {},
     "output_type": "display_data"
    }
   ],
   "source": [
    "ax1 = sns.countplot(train_data_raw.label, order = label_counts_train.index, palette='Set3')\n",
    "ax1.set_title('Training Data for Each Class Labels')\n",
    "ax1.set_xticklabels(ax1.get_xticklabels(), rotation=45)"
   ]
  },
  {
   "cell_type": "code",
   "execution_count": 20,
   "metadata": {},
   "outputs": [
    {
     "data": {
      "text/plain": [
       "[Text(0,0,'Dress'),\n",
       " Text(0,0,'Sandal'),\n",
       " Text(0,0,'Sneaker'),\n",
       " Text(0,0,'Bag'),\n",
       " Text(0,0,'Shirt'),\n",
       " Text(0,0,'Trouser'),\n",
       " Text(0,0,'Ankle boot'),\n",
       " Text(0,0,'T-shirt/top'),\n",
       " Text(0,0,'Coat'),\n",
       " Text(0,0,'Pullover')]"
      ]
     },
     "execution_count": 20,
     "metadata": {},
     "output_type": "execute_result"
    },
    {
     "data": {
      "image/png": "[encoded data removed]",
      "text/plain": [
       "<matplotlib.figure.Figure at 0x1a13efc780>"
      ]
     },
     "metadata": {},
     "output_type": "display_data"
    }
   ],
   "source": [
    "ax2 = sns.countplot(test_data_raw.label, order = label_counts_test.index, palette='Set2')\n",
    "ax2.set_title('Test Data for Each Class Labels')\n",
    "ax2.set_xticklabels(ax2.get_xticklabels(), rotation=45)"
   ]
  },
  {
   "cell_type": "markdown",
   "metadata": {},
   "source": [
    "### Image visualization *"
   ]
  },
  {
   "cell_type": "code",
   "execution_count": 21,
   "metadata": {},
   "outputs": [],
   "source": [
    "def show_images(num_images):\n",
    "    '''\n",
    "    INPUT: num_images - int - The number of images you would like to view.\n",
    "           Mod 10 of num_images should be 0 and it should be fewer than 101 images.\n",
    "    OUTPUT: A figure with the images shown for the training data.\n",
    "    '''\n",
    "    if num_images % 10 == 0 and num_images <= 100:\n",
    "        for digit_num in range(0,num_images): \n",
    "            plt.subplot(num_images/10,10,digit_num+1) #create subplots\n",
    "            mat_data = X.iloc[digit_num].as_matrix().reshape(28,28)  #reshape images\n",
    "            plt.imshow(mat_data) #plot the data\n",
    "            plt.xticks([]) #removes numbered labels on x-axis\n",
    "            plt.yticks([]) #removes numbered labels on y-axis\n",
    "    else:\n",
    "        print('That is not the right input, please read the docstring before continuing.')"
   ]
  },
  {
   "cell_type": "code",
   "execution_count": 22,
   "metadata": {},
   "outputs": [
    {
     "data": {
      "image/png": "[encoded data removed]",
      "text/plain": [
       "<matplotlib.figure.Figure at 0x106f8e470>"
      ]
     },
     "metadata": {},
     "output_type": "display_data"
    }
   ],
   "source": [
    "show_images(100)"
   ]
  },
  {
   "cell_type": "code",
   "execution_count": 23,
   "metadata": {},
   "outputs": [],
   "source": [
    "image= np.asarray(test_data_raw.iloc[8].values[1:].reshape(28,28)).astype(int)"
   ]
  },
  {
   "cell_type": "code",
   "execution_count": 24,
   "metadata": {},
   "outputs": [
    {
     "data": {
      "text/plain": [
       "dtype('int64')"
      ]
     },
     "execution_count": 24,
     "metadata": {},
     "output_type": "execute_result"
    }
   ],
   "source": [
    "image.dtype"
   ]
  },
  {
   "cell_type": "code",
   "execution_count": 25,
   "metadata": {},
   "outputs": [
    {
     "data": {
      "image/png": "[encoded data removed]",
      "text/plain": [
       "<matplotlib.figure.Figure at 0x1a134fac88>"
      ]
     },
     "metadata": {},
     "output_type": "display_data"
    }
   ],
   "source": [
    "%matplotlib inline\n",
    "#plt.subplot(2,1,1)\n",
    "plt.title('Original Image')\n",
    "plt.axis('off')\n",
    "plt.imshow(image, cmap='gray')\n",
    "plt.show()"
   ]
  },
  {
   "cell_type": "code",
   "execution_count": 26,
   "metadata": {},
   "outputs": [],
   "source": [
    "# Flatten the image into 1 dimension pixels\n",
    "pixels = image.flatten()"
   ]
  },
  {
   "cell_type": "code",
   "execution_count": 27,
   "metadata": {},
   "outputs": [
    {
     "data": {
      "image/png": "[encoded data removed]",
      "text/plain": [
       "<matplotlib.figure.Figure at 0x1a211781d0>"
      ]
     },
     "metadata": {},
     "output_type": "display_data"
    }
   ],
   "source": [
    "# Display a histogram of the pixels of original image\n",
    "#plt.subplot(2,1,2)\n",
    "plt.xlim((0,255))\n",
    "plt.title('Normalized Histogram')\n",
    "plt.hist(pixels, bins=64, color='red', alpha=0.4, range=(0,256), normed=True)\n",
    "# Display the plot\n",
    "plt.show()"
   ]
  },
  {
   "cell_type": "code",
   "execution_count": 28,
   "metadata": {},
   "outputs": [
    {
     "data": {
      "image/png": "[encoded data removed]",
      "text/plain": [
       "<matplotlib.figure.Figure at 0x1a213890f0>"
      ]
     },
     "metadata": {},
     "output_type": "display_data"
    }
   ],
   "source": [
    "# Display a histogram of the pixels of original image\n",
    "#plt.subplot(2,1,2)\n",
    "# Probability density function\n",
    "pdf = plt.hist(pixels, bins=64, range=(0,256), normed=False, color='red', alpha=0.4)\n",
    "plt.grid('off')\n",
    "# Use plt.twinx() to overlay the CDF \n",
    "plt.twinx()\n",
    "\n",
    "# Display a cumulative histogram of the pixels\n",
    "# Cumulative distribution function\n",
    "cdf = plt.hist(pixels, bins=64, range=(0,256), normed=True, cumulative=True, color='blue', alpha=0.4)\n",
    "\n",
    "# Specify x-axis range, hide axes, add title and display plot\n",
    "plt.xlim((0,256))\n",
    "plt.grid('off')\n",
    "plt.title('PDF & CDF (original image)')\n",
    "plt.show()\n"
   ]
  },
  {
   "cell_type": "code",
   "execution_count": 29,
   "metadata": {},
   "outputs": [
    {
     "data": {
      "image/png": "[encoded data removed]",
      "text/plain": [
       "<matplotlib.figure.Figure at 0x1a21382080>"
      ]
     },
     "metadata": {},
     "output_type": "display_data"
    }
   ],
   "source": [
    "# Generate a cumulative histogram\n",
    "cdf, bins, patches = plt.hist(pixels, bins=256, range=(0,256), normed=True, cumulative=True)\n",
    "new_pixels = np.interp(pixels, bins[:-1], cdf*255)\n",
    "\n",
    "# Reshape new_pixels as a 2-D array new_image\n",
    "new_image = new_pixels.reshape(image.shape)\n",
    "\n",
    "# Display the new image with 'gray' color map\n",
    "#plt.subplot(2,1,1)\n",
    "plt.title('Equalized image')\n",
    "plt.axis('off')\n",
    "plt.imshow(new_image, cmap='gray')\n",
    "plt.show()\n"
   ]
  },
  {
   "cell_type": "code",
   "execution_count": 30,
   "metadata": {},
   "outputs": [
    {
     "data": {
      "image/png": "[encoded data removed]",
      "text/plain": [
       "<matplotlib.figure.Figure at 0x1a21756da0>"
      ]
     },
     "metadata": {},
     "output_type": "display_data"
    }
   ],
   "source": [
    "# Generate a histogram of the new pixels\n",
    "#plt.subplot(2,1,2)\n",
    "pdf = plt.hist(new_pixels, bins=64, range=(0,256), normed=False, color='red', alpha=0.4) # working with bins (bin size)\n",
    "plt.grid('off')\n",
    "\n",
    "# Use plt.twinx() to overlay the CDF in the bottom subplot\n",
    "plt.twinx()\n",
    "plt.xlim((0,256))\n",
    "plt.grid('off')\n",
    "\n",
    "# Add title\n",
    "plt.title('PDF & CDF (equalized image)')\n",
    "\n",
    "# Generate a cumulative histogram of the new pixels\n",
    "cdf = plt.hist(new_pixels, bins=64, range=(0,256), cumulative=True, normed=True, color='blue', alpha=0.4)\n",
    "plt.show()\n"
   ]
  },
  {
   "cell_type": "code",
   "execution_count": 31,
   "metadata": {},
   "outputs": [
    {
     "data": {
      "image/png": "[encoded data removed]",
      "text/plain": [
       "<matplotlib.figure.Figure at 0x1a21c0c5c0>"
      ]
     },
     "metadata": {},
     "output_type": "display_data"
    },
    {
     "data": {
      "image/png": "[encoded data removed]",
      "text/plain": [
       "<matplotlib.figure.Figure at 0x1a215f8780>"
      ]
     },
     "metadata": {},
     "output_type": "display_data"
    }
   ],
   "source": [
    "plt.subplot(2,1,1)\n",
    "plt.title('Original Image')\n",
    "plt.axis('off')\n",
    "plt.imshow(image, cmap='gray')\n",
    "plt.show()\n",
    "plt.subplot(2,1,2)\n",
    "plt.title('Equalized image')\n",
    "plt.axis('off')\n",
    "plt.imshow(new_image, cmap='gray')\n",
    "plt.show()"
   ]
  },
  {
   "cell_type": "markdown",
   "metadata": {},
   "source": [
    "### Applying classification algorithms on the data"
   ]
  },
  {
   "cell_type": "markdown",
   "metadata": {},
   "source": [
    "In this section, I've applied classification algorithm on Fashion-MNIST data set to obtain the accuracy and F-Beta score. For each algorithm, I have tried multiple set of hyperparametes to see which set give higher accuracy and F-Beta score. These algorithms include: Random Forest, Logistic Regression, Support Vector Classifier and K Nearest Neighbors classifier."
   ]
  },
  {
   "cell_type": "markdown",
   "metadata": {},
   "source": [
    "### Random Forest classifier "
   ]
  },
  {
   "cell_type": "markdown",
   "metadata": {},
   "source": [
    "#### First classifier"
   ]
  },
  {
   "cell_type": "code",
   "execution_count": 32,
   "metadata": {},
   "outputs": [],
   "source": [
    "#Creating training and testing data set\n",
    "X_train, X_test, y_train, y_test = train_test_split(X, y, test_size=0.33, random_state=42)"
   ]
  },
  {
   "cell_type": "code",
   "execution_count": 97,
   "metadata": {},
   "outputs": [],
   "source": [
    "#Instantiate the calssifier \n",
    "clf_randomForest = RandomForestClassifier()\n",
    "\n",
    "#Fit the classifier\n",
    "clf_randomForest.fit(X_train, y_train)\n",
    "\n",
    "#Predict the labels\n",
    "y_preds = clf_randomForest.predict(X_test)"
   ]
  },
  {
   "cell_type": "code",
   "execution_count": 98,
   "metadata": {},
   "outputs": [
    {
     "name": "stdout",
     "output_type": "stream",
     "text": [
      "Accuracy score for Random Forest clissifier is:  0.8574025974025974\n",
      "F-Score for Random Forest clissifier is:  0.8559789734192698\n"
     ]
    }
   ],
   "source": [
    "#Accuracy Score and F-beta\n",
    "acc = accuracy_score(y_test, y_preds)\n",
    "print('Accuracy score for Random Forest clissifier is: ', acc)\n",
    "fscore = fbeta_score(y_test, y_preds, beta=0.5, average='macro')\n",
    "print('F-Score for Random Forest clissifier is: ', fscore)"
   ]
  },
  {
   "cell_type": "code",
   "execution_count": 35,
   "metadata": {},
   "outputs": [
    {
     "data": {
      "text/plain": [
       "{'bootstrap': True,\n",
       " 'class_weight': None,\n",
       " 'criterion': 'gini',\n",
       " 'max_depth': None,\n",
       " 'max_features': 'auto',\n",
       " 'max_leaf_nodes': None,\n",
       " 'min_impurity_decrease': 0.0,\n",
       " 'min_impurity_split': None,\n",
       " 'min_samples_leaf': 1,\n",
       " 'min_samples_split': 2,\n",
       " 'min_weight_fraction_leaf': 0.0,\n",
       " 'n_estimators': 10,\n",
       " 'n_jobs': 1,\n",
       " 'oob_score': False,\n",
       " 'random_state': None,\n",
       " 'verbose': 0,\n",
       " 'warm_start': False}"
      ]
     },
     "execution_count": 35,
     "metadata": {},
     "output_type": "execute_result"
    }
   ],
   "source": [
    "clf_randomForest.get_params()"
   ]
  },
  {
   "cell_type": "markdown",
   "metadata": {},
   "source": [
    "#### Second classifier"
   ]
  },
  {
   "cell_type": "code",
   "execution_count": 36,
   "metadata": {},
   "outputs": [],
   "source": [
    "#Instantiate the calssifier \n",
    "clf_randomForest = RandomForestClassifier(n_estimators=100, criterion='entropy', max_depth=100)\n",
    "\n",
    "#Fit the classifier\n",
    "clf_randomForest.fit(X_train, y_train)\n",
    "\n",
    "#Predict the labels\n",
    "y_preds = clf_randomForest.predict(X_test)"
   ]
  },
  {
   "cell_type": "code",
   "execution_count": 37,
   "metadata": {},
   "outputs": [
    {
     "name": "stdout",
     "output_type": "stream",
     "text": [
      "Accuracy score for Random Forest clissifier is:  0.8795670995670996\n",
      "F-Score for Random Forest clissifier is:  0.878522733187552\n"
     ]
    }
   ],
   "source": [
    "#Accuracy Score and F-beta\n",
    "acc = accuracy_score(y_test, y_preds)\n",
    "print('Accuracy score for Random Forest clissifier is: ', acc)\n",
    "fscore = fbeta_score(y_test, y_preds, beta=0.5, average='macro')\n",
    "print('F-Score for Random Forest clissifier is: ', fscore)"
   ]
  },
  {
   "cell_type": "code",
   "execution_count": 38,
   "metadata": {},
   "outputs": [
    {
     "name": "stdout",
     "output_type": "stream",
     "text": [
      "[[1990    1   41   75   10    1  168    0   25    0]\n",
      " [   6 2182    9   45    2    0    7    0    0    0]\n",
      " [  16    1 1904   32  245    0   95    0   15    0]\n",
      " [  47    3   12 2162   77    0   54    0    7    0]\n",
      " [   5    2  180  102 1993    0  108    0    7    0]\n",
      " [   0    0    0    0    0 2115    1   66    6   29]\n",
      " [ 386    7  287   60  200    2 1335    0   37    0]\n",
      " [   0    0    0    0    0   36    0 2186    3   99]\n",
      " [   4    0    9    6    6    4   15    2 2273    1]\n",
      " [   0    0    0    0    0   26    0   87    5 2178]]\n"
     ]
    }
   ],
   "source": [
    "#Confusion Matrix\n",
    "confMat = confusion_matrix(y_test, y_preds)\n",
    "print(confMat)"
   ]
  },
  {
   "cell_type": "code",
   "execution_count": 39,
   "metadata": {},
   "outputs": [
    {
     "data": {
      "text/plain": [
       "<matplotlib.axes._subplots.AxesSubplot at 0x1a20f3c940>"
      ]
     },
     "execution_count": 39,
     "metadata": {},
     "output_type": "execute_result"
    },
    {
     "data": {
      "image/png": "[encoded data removed]",
      "text/plain": [
       "<matplotlib.figure.Figure at 0x1a215930f0>"
      ]
     },
     "metadata": {},
     "output_type": "display_data"
    }
   ],
   "source": [
    "sns.heatmap(confMat, annot=True, cmap='bwr', linewidths=.5)"
   ]
  },
  {
   "cell_type": "markdown",
   "metadata": {},
   "source": [
    "#### Third classifier"
   ]
  },
  {
   "cell_type": "code",
   "execution_count": 40,
   "metadata": {},
   "outputs": [],
   "source": [
    "#Instantiate the calssifier \n",
    "clf_randomForest = RandomForestClassifier(n_estimators=100, criterion='gini', max_depth=100)\n",
    "\n",
    "#Fit the classifier\n",
    "clf_randomForest.fit(X_train, y_train)\n",
    "\n",
    "#Predict the labels\n",
    "y_preds = clf_randomForest.predict(X_test)"
   ]
  },
  {
   "cell_type": "code",
   "execution_count": 41,
   "metadata": {},
   "outputs": [
    {
     "name": "stdout",
     "output_type": "stream",
     "text": [
      "Accuracy score for Random Forest clissifier is:  0.8790476190476191\n",
      "F-Score for Random Forest clissifier is:  0.8779689792501604\n"
     ]
    }
   ],
   "source": [
    "#Accuracy Score and F-beta\n",
    "acc = accuracy_score(y_test, y_preds)\n",
    "print('Accuracy score for Random Forest clissifier is: ', acc)\n",
    "fscore = fbeta_score(y_test, y_preds, beta=0.5, average='macro')\n",
    "print('F-Score for Random Forest clissifier is: ', fscore)"
   ]
  },
  {
   "cell_type": "markdown",
   "metadata": {},
   "source": [
    "#### Forth classifier"
   ]
  },
  {
   "cell_type": "code",
   "execution_count": 42,
   "metadata": {},
   "outputs": [],
   "source": [
    "#Instantiate the calssifier \n",
    "clf_randomForest = RandomForestClassifier(n_estimators=100, criterion='gini', max_depth=50)\n",
    "\n",
    "#Fit the classifier\n",
    "clf_randomForest.fit(X_train, y_train)\n",
    "\n",
    "#Predict the labels\n",
    "y_preds = clf_randomForest.predict(X_test)"
   ]
  },
  {
   "cell_type": "code",
   "execution_count": 43,
   "metadata": {},
   "outputs": [
    {
     "name": "stdout",
     "output_type": "stream",
     "text": [
      "Accuracy score for Random Forest clissifier is:  0.8804761904761905\n",
      "F-Score for Random Forest clissifier is:  0.8792845553250274\n"
     ]
    }
   ],
   "source": [
    "#Accuracy Score and F-beta\n",
    "acc = accuracy_score(y_test, y_preds)\n",
    "print('Accuracy score for Random Forest clissifier is: ', acc)\n",
    "fscore = fbeta_score(y_test, y_preds, beta=0.5, average='macro')\n",
    "print('F-Score for Random Forest clissifier is: ', fscore)"
   ]
  },
  {
   "cell_type": "markdown",
   "metadata": {},
   "source": [
    "#### Fifth classifier"
   ]
  },
  {
   "cell_type": "code",
   "execution_count": 44,
   "metadata": {},
   "outputs": [],
   "source": [
    "#Instantiate the calssifier \n",
    "clf_randomForest = RandomForestClassifier(n_estimators=100, criterion='entropy', max_depth=50)\n",
    "\n",
    "#Fit the classifier\n",
    "clf_randomForest.fit(X_train, y_train)\n",
    "\n",
    "#Predict the labels\n",
    "y_preds = clf_randomForest.predict(X_test)"
   ]
  },
  {
   "cell_type": "code",
   "execution_count": 45,
   "metadata": {},
   "outputs": [
    {
     "name": "stdout",
     "output_type": "stream",
     "text": [
      "Accuracy score for Random Forest clissifier is:  0.8794372294372295\n",
      "F-Score for Random Forest clissifier is:  0.8782604413998296\n"
     ]
    }
   ],
   "source": [
    "#Accuracy Score and F-beta\n",
    "acc = accuracy_score(y_test, y_preds)\n",
    "print('Accuracy score for Random Forest clissifier is: ', acc)\n",
    "fscore = fbeta_score(y_test, y_preds, beta=0.5, average='macro')\n",
    "print('F-Score for Random Forest clissifier is: ', fscore)"
   ]
  },
  {
   "cell_type": "markdown",
   "metadata": {},
   "source": [
    "#### Sixth classifer"
   ]
  },
  {
   "cell_type": "code",
   "execution_count": 46,
   "metadata": {},
   "outputs": [],
   "source": [
    "#Instantiate the calssifier \n",
    "clf_randomForest = RandomForestClassifier(n_estimators=10, criterion='entropy', max_depth=50)\n",
    "\n",
    "#Fit the classifier\n",
    "clf_randomForest.fit(X_train, y_train)\n",
    "\n",
    "#Predict the labels\n",
    "y_preds = clf_randomForest.predict(X_test)"
   ]
  },
  {
   "cell_type": "code",
   "execution_count": 47,
   "metadata": {},
   "outputs": [
    {
     "name": "stdout",
     "output_type": "stream",
     "text": [
      "Accuracy score for Random Forest clissifier is:  0.8597835497835498\n",
      "F-Score for Random Forest clissifier is:  0.8585678569533342\n"
     ]
    }
   ],
   "source": [
    "#Accuracy Score and F-beta\n",
    "acc = accuracy_score(y_test, y_preds)\n",
    "print('Accuracy score for Random Forest clissifier is: ', acc)\n",
    "fscore = fbeta_score(y_test, y_preds, beta=0.5, average='macro')\n",
    "print('F-Score for Random Forest clissifier is: ', fscore)"
   ]
  },
  {
   "cell_type": "markdown",
   "metadata": {},
   "source": [
    "#### Results "
   ]
  },
  {
   "cell_type": "markdown",
   "metadata": {},
   "source": [
    "| Classifier | Parameters | Accuracy Score | F-Beta Score |\n",
    "| --- | --- | --- |\n",
    "| Random Forest Classifier | Default Parameters | 0.85602 | 0.85448 |\n",
    "| Random Forest Classifier | n_estimators=100, criterion='entropy', max_depth=100 | 0.87957 | 0.87852 |\n",
    "| Random Forest Classifier | n_estimators=100, criterion='gini', max_depth=100 | 0.87905 | 0.87797 |\n",
    "| Random Forest Classifier | n_estimators=100, criterion='gini', max_depth=50 | 0.88048 | 0.87928 |\n",
    "| Random Forest Classifier | n_estimators=100, criterion='entropy', max_depth=50 | 0.87944 | 0.87826 |\n",
    "| Random Forest Classifier | n_estimators=10, criterion='entropy', max_depth=50 | 0.85978 | 0.85857 |"
   ]
  },
  {
   "cell_type": "markdown",
   "metadata": {},
   "source": [
    "### Logistic Regression classifier"
   ]
  },
  {
   "cell_type": "markdown",
   "metadata": {},
   "source": [
    "#### First classifier"
   ]
  },
  {
   "cell_type": "code",
   "execution_count": 48,
   "metadata": {},
   "outputs": [],
   "source": [
    "#Instantiate the calssifier \n",
    "clf_logisticRegression = LogisticRegression(C=1, multi_class='ovr', penalty='l1')\n",
    "\n",
    "#Fit the classifier\n",
    "clf_logisticRegression.fit(X_train, y_train)\n",
    "\n",
    "#Predict the labels\n",
    "y_preds = clf_logisticRegression.predict(X_test)"
   ]
  },
  {
   "cell_type": "code",
   "execution_count": 49,
   "metadata": {},
   "outputs": [
    {
     "name": "stdout",
     "output_type": "stream",
     "text": [
      "Accuracy score for Logistic Regression is:  0.8438528138528139\n",
      "F-Score for Logistic Regression is:  0.8424166685898824\n"
     ]
    }
   ],
   "source": [
    "#Accuracy Score and F-beta\n",
    "acc = accuracy_score(y_test, y_preds)\n",
    "print('Accuracy score for Logistic Regression is: ', acc)\n",
    "fscore = fbeta_score(y_test, y_preds, beta=0.5, average='macro')\n",
    "print('F-Score for Logistic Regression is: ', fscore)"
   ]
  },
  {
   "cell_type": "markdown",
   "metadata": {},
   "source": [
    "#### Second classifier"
   ]
  },
  {
   "cell_type": "code",
   "execution_count": 50,
   "metadata": {},
   "outputs": [],
   "source": [
    "#Instantiate the calssifier \n",
    "clf_logisticRegression = LogisticRegression(C=10, multi_class='ovr', penalty='l1')\n",
    "\n",
    "#Fit the classifier\n",
    "clf_logisticRegression.fit(X_train, y_train)\n",
    "\n",
    "#Predict the labels\n",
    "y_preds = clf_logisticRegression.predict(X_test)"
   ]
  },
  {
   "cell_type": "code",
   "execution_count": 51,
   "metadata": {},
   "outputs": [
    {
     "name": "stdout",
     "output_type": "stream",
     "text": [
      "Accuracy score for Logistic Regression is:  0.843030303030303\n",
      "F-Score for Logistic Regression is:  0.8415242740685296\n"
     ]
    }
   ],
   "source": [
    "#Accuracy Score and F-beta\n",
    "acc = accuracy_score(y_test, y_preds)\n",
    "print('Accuracy score for Logistic Regression is: ', acc)\n",
    "fscore = fbeta_score(y_test, y_preds, beta=0.5, average='macro')\n",
    "print('F-Score for Logistic Regression is: ', fscore)"
   ]
  },
  {
   "cell_type": "markdown",
   "metadata": {},
   "source": [
    "#### Third classifier"
   ]
  },
  {
   "cell_type": "code",
   "execution_count": 99,
   "metadata": {},
   "outputs": [],
   "source": [
    "#Instantiate the calssifier \n",
    "clf_logisticRegression = LogisticRegression(C=10, multi_class='ovr', penalty='l2')\n",
    "\n",
    "#Fit the classifier\n",
    "clf_logisticRegression.fit(X_train, y_train)\n",
    "\n",
    "#Predict the labels\n",
    "y_preds = clf_logisticRegression.predict(X_test)"
   ]
  },
  {
   "cell_type": "code",
   "execution_count": 100,
   "metadata": {},
   "outputs": [
    {
     "name": "stdout",
     "output_type": "stream",
     "text": [
      "Accuracy score for Logistic Regression is:  0.8427272727272728\n",
      "F-Score for Logistic Regression is:  0.8409952170969632\n"
     ]
    }
   ],
   "source": [
    "#Accuracy Score and F-beta\n",
    "acc = accuracy_score(y_test, y_preds)\n",
    "print('Accuracy score for Logistic Regression is: ', acc)\n",
    "fscore = fbeta_score(y_test, y_preds, beta=0.5, average='macro')\n",
    "print('F-Score for Logistic Regression is: ', fscore)"
   ]
  },
  {
   "cell_type": "markdown",
   "metadata": {},
   "source": [
    "#### Fourth classifier"
   ]
  },
  {
   "cell_type": "code",
   "execution_count": 101,
   "metadata": {},
   "outputs": [],
   "source": [
    "#Instantiate the calssifier \n",
    "clf_logisticRegression = LogisticRegression(C=1, multi_class='ovr', penalty='l2')\n",
    "\n",
    "#Fit the classifier\n",
    "clf_logisticRegression.fit(X_train, y_train)\n",
    "\n",
    "#Predict the labels\n",
    "y_preds = clf_logisticRegression.predict(X_test)"
   ]
  },
  {
   "cell_type": "code",
   "execution_count": 102,
   "metadata": {},
   "outputs": [
    {
     "name": "stdout",
     "output_type": "stream",
     "text": [
      "Accuracy score for Logistic Regression is:  0.8426839826839827\n",
      "F-Score for Logistic Regression is:  0.8407907107792439\n"
     ]
    }
   ],
   "source": [
    "#Accuracy Score and F-beta\n",
    "acc = accuracy_score(y_test, y_preds)\n",
    "print('Accuracy score for Logistic Regression is: ', acc)\n",
    "fscore = fbeta_score(y_test, y_preds, beta=0.5, average='macro')\n",
    "print('F-Score for Logistic Regression is: ', fscore)"
   ]
  },
  {
   "cell_type": "markdown",
   "metadata": {},
   "source": [
    "#### Results"
   ]
  },
  {
   "cell_type": "markdown",
   "metadata": {},
   "source": [
    "| Classifier | Parameters | Accuracy Score | F-Beta Score |\n",
    "| --- | --- | --- |\n",
    "| Logistic Regression Classifier | C=1, multi_class='ovr', penalty='l1' | 0.84385 | 0.84242 |\n",
    "| Logistic Regression Classifier | C=10, multi_class='ovr', penalty='l1' | 0.84303 | 0.84152 |\n"
   ]
  },
  {
   "cell_type": "markdown",
   "metadata": {},
   "source": [
    "### Support Vector classifier "
   ]
  },
  {
   "cell_type": "markdown",
   "metadata": {},
   "source": [
    "#### First classifier"
   ]
  },
  {
   "cell_type": "code",
   "execution_count": 52,
   "metadata": {},
   "outputs": [],
   "source": [
    "#Instantiate the calssifier\n",
    "clf_SVC = SVC(kernel='poly', C=1)\n",
    "\n",
    "#Fit the classifier\n",
    "clf_SVC.fit(X_train, y_train)\n",
    "\n",
    "#Predict the labels\n",
    "y_preds = clf_SVC.predict(X_test)"
   ]
  },
  {
   "cell_type": "code",
   "execution_count": 53,
   "metadata": {},
   "outputs": [
    {
     "name": "stdout",
     "output_type": "stream",
     "text": [
      "Accuracy score for SVC is:  0.873030303030303\n",
      "F-Score for SVC is:  0.8732212821960952\n"
     ]
    }
   ],
   "source": [
    "#Accuracy Score and F-beta\n",
    "acc = accuracy_score(y_test, y_preds)\n",
    "print('Accuracy score for SVC is: ', acc)\n",
    "fscore = fbeta_score(y_test, y_preds, beta=0.5, average='macro')\n",
    "print('F-Score for SVC is: ', fscore)"
   ]
  },
  {
   "cell_type": "markdown",
   "metadata": {},
   "source": [
    "#### Second classifier"
   ]
  },
  {
   "cell_type": "code",
   "execution_count": 54,
   "metadata": {},
   "outputs": [],
   "source": [
    "#Instantiate the calssifier\n",
    "clf_SVC = SVC(kernel='poly', C=10)\n",
    "\n",
    "#Fit the classifier\n",
    "clf_SVC.fit(X_train, y_train)\n",
    "\n",
    "#Predict the labels\n",
    "y_preds = clf_SVC.predict(X_test)"
   ]
  },
  {
   "cell_type": "code",
   "execution_count": 55,
   "metadata": {},
   "outputs": [
    {
     "name": "stdout",
     "output_type": "stream",
     "text": [
      "Accuracy score for SVC is:  0.873030303030303\n",
      "F-Score for SVC is:  0.8732212821960952\n"
     ]
    }
   ],
   "source": [
    "#Accuracy Score and F-beta\n",
    "acc = accuracy_score(y_test, y_preds)\n",
    "print('Accuracy score for SVC is: ', acc)\n",
    "fscore = fbeta_score(y_test, y_preds, beta=0.5, average='macro')\n",
    "print('F-Score for SVC is: ', fscore)"
   ]
  },
  {
   "cell_type": "markdown",
   "metadata": {},
   "source": [
    "#### Third classifier"
   ]
  },
  {
   "cell_type": "code",
   "execution_count": 93,
   "metadata": {},
   "outputs": [],
   "source": [
    "#Instantiate the calssifier\n",
    "clf_SVC = SVC(kernel='sigmoid', C=1) \n",
    "\n",
    "#Fit the classifier\n",
    "clf_SVC.fit(X_train, y_train)\n",
    "\n",
    "#Predict the labels\n",
    "y_preds = clf_SVC.predict(X_test)"
   ]
  },
  {
   "cell_type": "code",
   "execution_count": 94,
   "metadata": {},
   "outputs": [
    {
     "name": "stdout",
     "output_type": "stream",
     "text": [
      "Accuracy score for SVC is:  0.09597402597402598\n",
      "F-Score for SVC is:  0.01171565363518184\n"
     ]
    },
    {
     "name": "stderr",
     "output_type": "stream",
     "text": [
      "/Users/azadesanjari/anaconda3/lib/python3.6/site-packages/sklearn/metrics/classification.py:1135: UndefinedMetricWarning: F-score is ill-defined and being set to 0.0 in labels with no predicted samples.\n",
      "  'precision', 'predicted', average, warn_for)\n"
     ]
    }
   ],
   "source": [
    "#Accuracy Score and F-beta\n",
    "acc = accuracy_score(y_test, y_preds)\n",
    "print('Accuracy score for SVC is: ', acc)\n",
    "fscore = fbeta_score(y_test, y_preds, beta=0.5, average='macro')\n",
    "print('F-Score for SVC is: ', fscore)"
   ]
  },
  {
   "cell_type": "markdown",
   "metadata": {},
   "source": [
    "#### Fourth classifier"
   ]
  },
  {
   "cell_type": "code",
   "execution_count": 95,
   "metadata": {},
   "outputs": [],
   "source": [
    "#Instantiate the calssifier\n",
    "clf_SVC = SVC(kernel='rbf', C=10)\n",
    "\n",
    "#Fit the classifier\n",
    "clf_SVC.fit(X_train, y_train)\n",
    "\n",
    "#Predict the labels\n",
    "y_preds = clf_SVC.predict(X_test)"
   ]
  },
  {
   "cell_type": "code",
   "execution_count": 96,
   "metadata": {},
   "outputs": [
    {
     "name": "stdout",
     "output_type": "stream",
     "text": [
      "Accuracy score for SVC is:  0.09735930735930735\n",
      "F-Score for SVC is:  0.018575234051404328\n"
     ]
    },
    {
     "name": "stderr",
     "output_type": "stream",
     "text": [
      "/Users/azadesanjari/anaconda3/lib/python3.6/site-packages/sklearn/metrics/classification.py:1135: UndefinedMetricWarning: F-score is ill-defined and being set to 0.0 in labels with no predicted samples.\n",
      "  'precision', 'predicted', average, warn_for)\n"
     ]
    }
   ],
   "source": [
    "#Accuracy Score and F-beta\n",
    "acc = accuracy_score(y_test, y_preds)\n",
    "print('Accuracy score for SVC is: ', acc)\n",
    "fscore = fbeta_score(y_test, y_preds, beta=0.5, average='macro')\n",
    "print('F-Score for SVC is: ', fscore)"
   ]
  },
  {
   "cell_type": "markdown",
   "metadata": {},
   "source": [
    "#### Results"
   ]
  },
  {
   "cell_type": "markdown",
   "metadata": {},
   "source": [
    "| Classifier | Parameters | Accuracy Score | F-Beta Score |\n",
    "| --- | --- | --- |\n",
    "| Support Vector Classifier | kernel='poly', C=1 | 0.87303 | 0.87322 |\n",
    "| Support Vector Classifier | kernel='poly', C=10 | 0.87303 | 0.87322 |\n"
   ]
  },
  {
   "cell_type": "markdown",
   "metadata": {},
   "source": [
    "### K Nearest Neighbors classifier"
   ]
  },
  {
   "cell_type": "markdown",
   "metadata": {},
   "source": [
    "#### First classifier"
   ]
  },
  {
   "cell_type": "code",
   "execution_count": 56,
   "metadata": {},
   "outputs": [],
   "source": [
    "#Instantiate the calssifier\n",
    "clf_KNN = KNeighborsClassifier(n_neighbors=5, weights='distance', p=2)\n",
    "\n",
    "#Fit the classifier\n",
    "clf_KNN.fit(X_train, y_train)\n",
    "\n",
    "#Predict the labels\n",
    "y_preds = clf_KNN.predict(X_test)"
   ]
  },
  {
   "cell_type": "code",
   "execution_count": 57,
   "metadata": {},
   "outputs": [
    {
     "name": "stdout",
     "output_type": "stream",
     "text": [
      "Accuracy score for KNN is:  0.8550649350649351\n",
      "F-Score for KNN is:  0.8568692939936626\n"
     ]
    }
   ],
   "source": [
    "#Accuracy Score and F-beta\n",
    "acc = accuracy_score(y_test, y_preds)\n",
    "print('Accuracy score for KNN is: ', acc)\n",
    "fscore = fbeta_score(y_test, y_preds, beta=0.5, average='macro')\n",
    "print('F-Score for KNN is: ', fscore)"
   ]
  },
  {
   "cell_type": "markdown",
   "metadata": {},
   "source": [
    "#### Second classifier"
   ]
  },
  {
   "cell_type": "code",
   "execution_count": 60,
   "metadata": {},
   "outputs": [],
   "source": [
    "#Instantiate the calssifier\n",
    "clf_KNN = KNeighborsClassifier(n_neighbors=5, weights='uniform', p=2)\n",
    "\n",
    "#Fit the classifier\n",
    "clf_KNN.fit(X_train, y_train)\n",
    "\n",
    "#Predict the labels\n",
    "y_preds = clf_KNN.predict(X_test)"
   ]
  },
  {
   "cell_type": "code",
   "execution_count": 61,
   "metadata": {},
   "outputs": [
    {
     "name": "stdout",
     "output_type": "stream",
     "text": [
      "Accuracy score for KNN is:  0.8545454545454545\n",
      "F-Score for KNN is:  0.8559692310890152\n"
     ]
    }
   ],
   "source": [
    "#Accuracy Score and F-beta\n",
    "acc = accuracy_score(y_test, y_preds)\n",
    "print('Accuracy score for KNN is: ', acc)\n",
    "fscore = fbeta_score(y_test, y_preds, beta=0.5, average='macro')\n",
    "print('F-Score for KNN is: ', fscore)"
   ]
  },
  {
   "cell_type": "markdown",
   "metadata": {},
   "source": [
    "#### Third classifier"
   ]
  },
  {
   "cell_type": "code",
   "execution_count": 62,
   "metadata": {},
   "outputs": [],
   "source": [
    "#Instantiate the calssifier\n",
    "clf_KNN = KNeighborsClassifier(n_neighbors=9, weights='distance', p=2)\n",
    "\n",
    "#Fit the classifier\n",
    "clf_KNN.fit(X_train, y_train)\n",
    "\n",
    "#Predict the labels\n",
    "y_preds = clf_KNN.predict(X_test)"
   ]
  },
  {
   "cell_type": "code",
   "execution_count": 63,
   "metadata": {},
   "outputs": [
    {
     "name": "stdout",
     "output_type": "stream",
     "text": [
      "Accuracy score for KNN is:  0.8516017316017316\n",
      "F-Score for KNN is:  0.8534479352015198\n"
     ]
    }
   ],
   "source": [
    "#Accuracy Score and F-beta\n",
    "acc = accuracy_score(y_test, y_preds)\n",
    "print('Accuracy score for KNN is: ', acc)\n",
    "fscore = fbeta_score(y_test, y_preds, beta=0.5, average='macro')\n",
    "print('F-Score for KNN is: ', fscore)"
   ]
  },
  {
   "cell_type": "markdown",
   "metadata": {},
   "source": [
    "#### Forth classifier"
   ]
  },
  {
   "cell_type": "code",
   "execution_count": 64,
   "metadata": {},
   "outputs": [],
   "source": [
    "#Instantiate the calssifier\n",
    "clf_KNN = KNeighborsClassifier(n_neighbors=9, weights='uniform', p=2)\n",
    "\n",
    "#Fit the classifier\n",
    "clf_KNN.fit(X_train, y_train)\n",
    "\n",
    "#Predict the labels\n",
    "y_preds = clf_KNN.predict(X_test)"
   ]
  },
  {
   "cell_type": "code",
   "execution_count": 65,
   "metadata": {},
   "outputs": [
    {
     "name": "stdout",
     "output_type": "stream",
     "text": [
      "Accuracy score for KNN is:  0.8495238095238096\n",
      "F-Score for KNN is:  0.8508857512275352\n"
     ]
    }
   ],
   "source": [
    "#Accuracy Score and F-beta\n",
    "acc = accuracy_score(y_test, y_preds)\n",
    "print('Accuracy score for KNN is: ', acc)\n",
    "fscore = fbeta_score(y_test, y_preds, beta=0.5, average='macro')\n",
    "print('F-Score for KNN is: ', fscore)"
   ]
  },
  {
   "cell_type": "markdown",
   "metadata": {},
   "source": [
    "#### Results"
   ]
  },
  {
   "cell_type": "markdown",
   "metadata": {},
   "source": [
    "| Classifier | Parameters | Accuracy Score | F-Beta Score |\n",
    "| --- | --- | --- |\n",
    "| K Nearest Neighbors Classifier | n_neighbors=5, weights='distance', p=2 | 0.85506 | 0.85687 |\n",
    "| K Nearest Neighbors Classifier | n_neighbors=5, weights='uniform', p=2 | 0.85454 | 0.85597 |\n",
    "| K Nearest Neighbors Classifier | n_neighbors=9, weights='distance', p=2 | 0.85160 | 0.85345 |\n",
    "| K Nearest Neighbors Classifier | n_neighbors=9, weights='uniform', p=2 |  0.84952 | 0.85088 |"
   ]
  },
  {
   "cell_type": "markdown",
   "metadata": {},
   "source": [
    "### PCA"
   ]
  },
  {
   "cell_type": "markdown",
   "metadata": {},
   "source": [
    "PCA is commonly used with high dimensional data, such as image data. PCA has been used substantially reduce the dimensionality of the data. After applying the PCA, I will apply Random Forest classifier to see what's the accuracy score and F-Beta score corresponding to the number of component of the data set. "
   ]
  },
  {
   "cell_type": "code",
   "execution_count": 66,
   "metadata": {},
   "outputs": [],
   "source": [
    "# PCA Function\n",
    "def apply_pca(n_components, data):\n",
    "    '''\n",
    "    Transforms data using PCA to create n_components, and provides back the results of the\n",
    "    transformation.\n",
    "    \n",
    "    INPUT: n_components - int - the number of principal components to create\n",
    "           data - the data you would like to transform\n",
    "           \n",
    "    OUTPUT: pca - the pca object created after fitting the data\n",
    "            X_pca - the transformed X matrix with new number of components\n",
    "    '''\n",
    "    X = StandardScaler().fit_transform(data)\n",
    "    pca = PCA(n_components)\n",
    "    X_pca = pca.fit_transform(X)\n",
    "    return pca, X_pca"
   ]
  },
  {
   "cell_type": "markdown",
   "metadata": {},
   "source": [
    "### Random Forest classifier function"
   ]
  },
  {
   "cell_type": "code",
   "execution_count": 67,
   "metadata": {},
   "outputs": [],
   "source": [
    "def fit_random_forest_classifier(X, y):\n",
    "    '''\n",
    "    INPUT: X - the x-matrix of input features\n",
    "           y - the response column \n",
    "    OUTPUT: none - prints the accuracy\n",
    "    '''\n",
    "    \n",
    "    # Create training and testing data\n",
    "    X_train, X_test, y_train, y_test = train_test_split(X, y, test_size=0.33, random_state=42)\n",
    "    \n",
    "    #instantiate the calssifier\n",
    "    clf_randomForest = RandomForestClassifier(n_estimators=100, criterion='gini', max_depth=100)\n",
    "\n",
    "    #fit the classifier\n",
    "    clf_randomForest.fit(X_train, y_train)\n",
    "\n",
    "    #predict the labels\n",
    "    y_preds = clf_randomForest.predict(X_test)\n",
    "\n",
    "    #Accuracy Score \n",
    "    acc = accuracy_score(y_test, y_preds)\n",
    "    # F-score\n",
    "    fscore = fbeta_score(y_test, y_preds, beta=0.5, average='macro')\n",
    "    \n",
    "    return acc, fscore   "
   ]
  },
  {
   "cell_type": "markdown",
   "metadata": {},
   "source": [
    "### Result comparision"
   ]
  },
  {
   "cell_type": "markdown",
   "metadata": {},
   "source": [
    "In order to undrestand how PCA works with Random Forest classifier, I will apply PCA with a range of component from 2 to 100 along with Random Forest classifier. As a result, I will compare the accuracy score and F-beta score coresponding to number of components."
   ]
  },
  {
   "cell_type": "code",
   "execution_count": 68,
   "metadata": {},
   "outputs": [],
   "source": [
    "accs = []\n",
    "fscores = []\n",
    "comps = []\n",
    "for component in range(2, 100):\n",
    "    comps.append(component)\n",
    "    pca, X_pca = apply_pca(component, X)\n",
    "    acc, fscore = fit_random_forest_classifier(X_pca, y)\n",
    "    accs.append(acc)\n",
    "    fscores.append(fscore)"
   ]
  },
  {
   "cell_type": "code",
   "execution_count": 69,
   "metadata": {},
   "outputs": [],
   "source": [
    "comps_accs = zip(comps, accs)"
   ]
  },
  {
   "cell_type": "code",
   "execution_count": 70,
   "metadata": {},
   "outputs": [],
   "source": [
    "comps_accs = list(comps_accs)"
   ]
  },
  {
   "cell_type": "code",
   "execution_count": 71,
   "metadata": {},
   "outputs": [
    {
     "data": {
      "text/plain": [
       "[(2, 0.5034632034632035),\n",
       " (3, 0.6364502164502165),\n",
       " (4, 0.7192640692640693),\n",
       " (5, 0.7608658008658009),\n",
       " (6, 0.7806926406926407),\n",
       " (7, 0.7950216450216451),\n",
       " (8, 0.8019047619047619),\n",
       " (9, 0.8117316017316017),\n",
       " (10, 0.8234199134199134)]"
      ]
     },
     "execution_count": 71,
     "metadata": {},
     "output_type": "execute_result"
    }
   ],
   "source": [
    "comps_accs[:9]"
   ]
  },
  {
   "cell_type": "code",
   "execution_count": 72,
   "metadata": {},
   "outputs": [],
   "source": [
    "comps_fscores = zip(comps, fscores)"
   ]
  },
  {
   "cell_type": "code",
   "execution_count": 73,
   "metadata": {},
   "outputs": [],
   "source": [
    "comps_fscores = list(comps_fscores)"
   ]
  },
  {
   "cell_type": "code",
   "execution_count": 74,
   "metadata": {},
   "outputs": [
    {
     "data": {
      "text/plain": [
       "[(2, 0.502337086578509),\n",
       " (3, 0.6309176094037519),\n",
       " (4, 0.7148951768638161),\n",
       " (5, 0.7577956060933111),\n",
       " (6, 0.7788649660999413),\n",
       " (7, 0.7931200254205162),\n",
       " (8, 0.8000197056424764),\n",
       " (9, 0.8099330807338564),\n",
       " (10, 0.8217750863443808)]"
      ]
     },
     "execution_count": 74,
     "metadata": {},
     "output_type": "execute_result"
    }
   ],
   "source": [
    "comps_fscores[:9]"
   ]
  },
  {
   "cell_type": "code",
   "execution_count": 75,
   "metadata": {},
   "outputs": [
    {
     "data": {
      "text/plain": [
       "(0.8680952380952381, 93)"
      ]
     },
     "execution_count": 75,
     "metadata": {},
     "output_type": "execute_result"
    }
   ],
   "source": [
    "# The max accuracy and corresponding number of components\n",
    "np.max(accs), comps[np.where(accs == np.max(accs))[0][0]]"
   ]
  },
  {
   "cell_type": "code",
   "execution_count": 76,
   "metadata": {},
   "outputs": [
    {
     "data": {
      "text/plain": [
       "(0.8664606415353744, 93)"
      ]
     },
     "execution_count": 76,
     "metadata": {},
     "output_type": "execute_result"
    }
   ],
   "source": [
    "# The max fscore and corresponding number of components\n",
    "np.max(fscores), comps[np.where(fscores == np.max(fscores))[0][0]]"
   ]
  },
  {
   "cell_type": "code",
   "execution_count": 77,
   "metadata": {},
   "outputs": [
    {
     "data": {
      "text/plain": [
       "Text(0.5,1,'Number of Components by Accuracy')"
      ]
     },
     "execution_count": 77,
     "metadata": {},
     "output_type": "execute_result"
    },
    {
     "data": {
      "image/png": "[encoded data removed]",
      "text/plain": [
       "<matplotlib.figure.Figure at 0x1a21198400>"
      ]
     },
     "metadata": {},
     "output_type": "display_data"
    }
   ],
   "source": [
    "plt.plot(comps, accs, color='green', marker='o',markersize=5)\n",
    "#plt.plot(comps, fscores, color='blue', marker='o',markersize=5)\n",
    "plt.xlabel('Number of Components')\n",
    "plt.ylabel('Accuracy')\n",
    "plt.title('Number of Components by Accuracy')"
   ]
  },
  {
   "cell_type": "code",
   "execution_count": 78,
   "metadata": {},
   "outputs": [
    {
     "data": {
      "text/plain": [
       "Text(0.5,1,'Number of Components by Fscore')"
      ]
     },
     "execution_count": 78,
     "metadata": {},
     "output_type": "execute_result"
    },
    {
     "data": {
      "image/png": "[encoded data removed]",
      "text/plain": [
       "<matplotlib.figure.Figure at 0x1a20fdf320>"
      ]
     },
     "metadata": {},
     "output_type": "display_data"
    }
   ],
   "source": [
    "plt.plot(comps, fscores, color='blue', marker='o',markersize=5)\n",
    "plt.xlabel('Number of Components')\n",
    "plt.ylabel('Fscore')\n",
    "plt.title('Number of Components by Fscore')"
   ]
  },
  {
   "cell_type": "markdown",
   "metadata": {},
   "source": [
    "The maximum accuracy is acheived at 82 principal components which has the accuracy score of 0.86779 and F-beta score of 0.86658. "
   ]
  },
  {
   "cell_type": "markdown",
   "metadata": {},
   "source": [
    "### Interpret PCA results"
   ]
  },
  {
   "cell_type": "code",
   "execution_count": 79,
   "metadata": {},
   "outputs": [],
   "source": [
    "pca, X_pca = apply_pca(20, X)"
   ]
  },
  {
   "cell_type": "code",
   "execution_count": 80,
   "metadata": {},
   "outputs": [
    {
     "data": {
      "text/plain": [
       "(70000, 20)"
      ]
     },
     "execution_count": 80,
     "metadata": {},
     "output_type": "execute_result"
    }
   ],
   "source": [
    "X_pca.shape"
   ]
  },
  {
   "cell_type": "code",
   "execution_count": 81,
   "metadata": {},
   "outputs": [],
   "source": [
    "components = pca.components_"
   ]
  },
  {
   "cell_type": "code",
   "execution_count": 82,
   "metadata": {},
   "outputs": [
    {
     "data": {
      "text/plain": [
       "(20, 784)"
      ]
     },
     "execution_count": 82,
     "metadata": {},
     "output_type": "execute_result"
    }
   ],
   "source": [
    "components.shape"
   ]
  },
  {
   "cell_type": "code",
   "execution_count": 83,
   "metadata": {},
   "outputs": [
    {
     "data": {
      "text/plain": [
       "array([[ 0.00030202,  0.00114225,  0.00153463, ...,  0.00636594,\n",
       "         0.00143845,  0.00061522],\n",
       "       [ 0.00024068,  0.00192887,  0.00169334, ...,  0.01395085,\n",
       "         0.00948603,  0.00404957],\n",
       "       [ 0.00022007,  0.0007164 ,  0.00158504, ...,  0.01051179,\n",
       "        -0.00093624, -0.00073421],\n",
       "       ...,\n",
       "       [ 0.00740239,  0.02953046,  0.03421978, ...,  0.09097096,\n",
       "         0.07611371,  0.05084096],\n",
       "       [-0.00061146, -0.01022376, -0.00868821, ..., -0.04898304,\n",
       "        -0.00489488,  0.01479855],\n",
       "       [ 0.00993455,  0.04847361,  0.05866701, ..., -0.03950504,\n",
       "         0.0450094 ,  0.06006252]])"
      ]
     },
     "execution_count": 83,
     "metadata": {},
     "output_type": "execute_result"
    }
   ],
   "source": [
    "components"
   ]
  },
  {
   "cell_type": "code",
   "execution_count": 84,
   "metadata": {},
   "outputs": [],
   "source": [
    "explained_variance = pca.explained_variance_"
   ]
  },
  {
   "cell_type": "code",
   "execution_count": 85,
   "metadata": {},
   "outputs": [
    {
     "data": {
      "text/plain": [
       "array([172.90222098, 112.90770787,  42.81137349,  40.04063407,\n",
       "        31.80842532,  23.60712846,  21.604738  ,  18.16635749,\n",
       "        13.31212266,  10.34102079,   9.13863173,   7.5326591 ,\n",
       "         7.06868258,   6.72801851,   5.8432787 ,   5.70598362,\n",
       "         5.17535305,   4.96217651,   4.88173406,   4.58198086])"
      ]
     },
     "execution_count": 85,
     "metadata": {},
     "output_type": "execute_result"
    }
   ],
   "source": [
    "explained_variance"
   ]
  },
  {
   "cell_type": "code",
   "execution_count": 86,
   "metadata": {},
   "outputs": [],
   "source": [
    "explained_variance_ratio = pca.explained_variance_ratio_"
   ]
  },
  {
   "cell_type": "code",
   "execution_count": 87,
   "metadata": {},
   "outputs": [
    {
     "data": {
      "text/plain": [
       "array([0.2205354 , 0.14401288, 0.05460556, 0.05107151, 0.04057139,\n",
       "       0.0301107 , 0.02755667, 0.02317104, 0.01697951, 0.01318989,\n",
       "       0.01165625, 0.00960785, 0.00901605, 0.00858153, 0.00745306,\n",
       "       0.00727794, 0.00660112, 0.00632922, 0.00622661, 0.00584428])"
      ]
     },
     "execution_count": 87,
     "metadata": {},
     "output_type": "execute_result"
    }
   ],
   "source": [
    "explained_variance_ratio"
   ]
  },
  {
   "cell_type": "code",
   "execution_count": 88,
   "metadata": {},
   "outputs": [],
   "source": [
    "cumRatio = np.cumsum(explained_variance_ratio)"
   ]
  },
  {
   "cell_type": "code",
   "execution_count": 89,
   "metadata": {},
   "outputs": [],
   "source": [
    "num_components = pca.n_components"
   ]
  },
  {
   "cell_type": "code",
   "execution_count": 90,
   "metadata": {},
   "outputs": [
    {
     "data": {
      "text/plain": [
       "20"
      ]
     },
     "execution_count": 90,
     "metadata": {},
     "output_type": "execute_result"
    }
   ],
   "source": [
    "num_components"
   ]
  },
  {
   "cell_type": "code",
   "execution_count": 91,
   "metadata": {},
   "outputs": [
    {
     "data": {
      "text/plain": [
       "Text(0.5,1,'Explained Variance Per Principal Component')"
      ]
     },
     "execution_count": 91,
     "metadata": {},
     "output_type": "execute_result"
    },
    {
     "data": {
      "image/png": "[encoded data removed]",
      "text/plain": [
       "<matplotlib.figure.Figure at 0x1a20f947b8>"
      ]
     },
     "metadata": {},
     "output_type": "display_data"
    }
   ],
   "source": [
    "x=np.arange(num_components) # arange: Return evenly spaced values within a given interval\n",
    "plt.figure(figsize=(10, 6))\n",
    "ax = plt.subplot(111)\n",
    "ax.bar(x, explained_variance_ratio)\n",
    "ax.plot(x, cumRatio, color='green', label='cumulative \\n explained \\n variance ratio')\n",
    "\n",
    "for i in range(num_components):\n",
    "        ax.annotate(r\"%s%%\" % ((str(explained_variance_ratio[i]*100)[:4])), (x[i]+0.2, explained_variance_ratio[i]), va=\"bottom\", ha=\"center\", fontsize=12)\n",
    " \n",
    "ax.xaxis.set_tick_params(width=0)\n",
    "ax.yaxis.set_tick_params(width=2, length=12)\n",
    "    \n",
    "plt.legend(loc='upper left')\n",
    "plt.xlabel('Principal Component')\n",
    "plt.ylabel('Variance Explained (%)')\n",
    "plt.title('Explained Variance Per Principal Component')"
   ]
  },
  {
   "cell_type": "markdown",
   "metadata": {},
   "source": [
    "Each of the bars represents the amount of variability explained by each component. the first component explains 22.0% of the variability in the image data. The second explains 14.4% of the variability and so on. "
   ]
  },
  {
   "cell_type": "markdown",
   "metadata": {},
   "source": [
    "Two major parts of PCA:\n",
    "\n",
    "I. The amount of variance explained by each component. This is called an eigenvalue.\n",
    "\n",
    "II. The principal components themselves, each component is a vector of weights. In this case, the principal components help us understand which pixels of the image are most helpful in identifying the difference between between digits. Principal components are also known as eigenvectors."
   ]
  },
  {
   "cell_type": "markdown",
   "metadata": {},
   "source": [
    "### Conclusion"
   ]
  },
  {
   "cell_type": "markdown",
   "metadata": {},
   "source": [
    "In order to classifiy fashion product images into different groups, I've applied several classification algorithms with different hyperparameters to see which one has a better accuracy score. Among all these algorithms, Random Forest clasifer has a higher acuracy score of 0.88048.\n",
    "\n",
    "But considering that with 784 features for each image that cause overfitting for classification algorithm, I've applied dimentionality reduction, PCA on Fashion-MNIST data set along side Random Forest classifier. I have tried from 2 to 100 components to see where we can get the highest accuracy on this data set. It appeared with 93 components we can get the accuracy score of 0.86809 wich is  close to acuracy score of 0.88048 that I've got with 784 features."
   ]
  }
 ],
 "metadata": {
  "kernelspec": {
   "display_name": "Python [conda env:anaconda3]",
   "language": "python",
   "name": "conda-env-anaconda3-py"
  },
  "language_info": {
   "codemirror_mode": {
    "name": "ipython",
    "version": 3
   },
   "file_extension": ".py",
   "mimetype": "text/x-python",
   "name": "python",
   "nbconvert_exporter": "python",
   "pygments_lexer": "ipython3",
   "version": "3.6.4"
  }
 },
 "nbformat": 4,
 "nbformat_minor": 2
}
